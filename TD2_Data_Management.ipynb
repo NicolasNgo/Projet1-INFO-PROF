{
  "nbformat": 4,
  "nbformat_minor": 0,
  "metadata": {
    "colab": {
      "name": "TD2 Data Management.ipynb",
      "provenance": [],
      "collapsed_sections": [],
      "toc_visible": true,
      "authorship_tag": "ABX9TyNPyU3dwBFoZEr2VR4qQMj+",
      "include_colab_link": true
    },
    "kernelspec": {
      "name": "python3",
      "display_name": "Python 3"
    },
    "language_info": {
      "name": "python"
    }
  },
  "cells": [
    {
      "cell_type": "markdown",
      "metadata": {
        "id": "view-in-github",
        "colab_type": "text"
      },
      "source": [
        "<a href=\"https://colab.research.google.com/github/NicolasNgo/Projet1-INFO-PROF/blob/main/TD2_Data_Management.ipynb\" target=\"_parent\"><img src=\"https://colab.research.google.com/assets/colab-badge.svg\" alt=\"Open In Colab\"/></a>"
      ]
    },
    {
      "cell_type": "markdown",
      "metadata": {
        "id": "A8LKJkXywUhx"
      },
      "source": [
        "# **TD2 - Data management**\n",
        "\n"
      ]
    },
    {
      "cell_type": "markdown",
      "metadata": {
        "id": "lz7gFrM8wb1o"
      },
      "source": [
        "## **A) DataFrame Manipulation**"
      ]
    },
    {
      "cell_type": "markdown",
      "metadata": {
        "id": "aJekJUHhwdu4"
      },
      "source": [
        "### **Exercise 1 - Creation of DataFrame from a dictionary**\n",
        "\n",
        "**Write a Pandas program to create and display a DataFrame from the following dictionary.**\n",
        "\n",
        "\n",
        "\n",
        "```\n",
        "dict1 = {\n",
        "  'Names' : ['Jean','Marie','Joseph','Marthe','Jacob','Marc','Paul','Pierre','Ismael','David','Mathieu'],\n",
        "  'Measures' : [12.5,18.0, 10.0, 13.2, 3.2, 5.7, 12.0, 6.0, 7.0, 14.5, 17.6],\n",
        "  'Center':['1', '2', '2', '1', '2', '2', '1', '2', '1','2', '1']\n",
        "}\n",
        "```\n",
        "\n",
        "\n",
        "\n",
        "* __Once created, use `Names` as an index for the DataFrame.__\n",
        "* __Display the measurement of Pierre.__\n",
        "* __Give the overall mean measurement.__\n",
        "* __Give the mean measurement of each center.__"
      ]
    },
    {
      "cell_type": "code",
      "metadata": {
        "id": "x82sBkNVB8on"
      },
      "source": [
        ""
      ],
      "execution_count": null,
      "outputs": []
    },
    {
      "cell_type": "markdown",
      "metadata": {
        "id": "nbJTwqr81Bac"
      },
      "source": [
        "## **B) Manipulate DataFrame**"
      ]
    },
    {
      "cell_type": "markdown",
      "metadata": {
        "id": "LIVePm-qxEqR"
      },
      "source": [
        "**Exercise 2**\n",
        "\n",
        "From the following DataFrame:\n",
        "\n",
        "```\n",
        "df = pd.DataFrame({\n",
        "  'id': ['085','086','087','088','089','090','091','092','093','094'],\n",
        "  'age':[19,42,25,58,36,74,65,20,47,32],\n",
        "  'weight':['50', '46', '60', '103','75','68','82', '96','74', '113'],\n",
        "  'height':[158, 174, 195, 169, 158, 201, 189, 163, 184, 173]\n",
        "  'sex':['F','F','F','M','M','F','M','F','F','M'],\n",
        "})\n",
        "```\n",
        "\n",
        "* __Display the first 3 rows.__\n",
        "* __Display the column `age`.__\n",
        "* __Display the number of rows.__\n",
        "* __Display the proportion of male and female patients.__\n",
        "* __Display the 'id' of the youngest and oldest patient along with the corresponding ages.__\n",
        "* __Display the patients over 40 years old.__\n",
        "* __Compute the BMI of each patients and add a new column with these values in your DataFrame. The value should be an integer.__\n",
        "* __Create a new column from BMI with categorical version of BMI.__\n",
        "* __Display the number of patients by category__\n",
        "* __Give the mean age of each BMI category.__\n",
        "\n",
        "__Note__: The Body Mass Index can be calculated with the formula:\n",
        "\n",
        "$$\n",
        "BMI = \\frac{Weight}{Height^2}\n",
        "$$\n",
        "\n",
        "With the $Height$ in meters and the $Weight$ in kg.\n",
        "\n"
      ]
    },
    {
      "cell_type": "code",
      "metadata": {
        "id": "TExD2gWCB9PW"
      },
      "source": [
        ""
      ],
      "execution_count": null,
      "outputs": []
    },
    {
      "cell_type": "markdown",
      "metadata": {
        "id": "VMyt9mZz1JQ0"
      },
      "source": [
        "## **C) Date format**"
      ]
    },
    {
      "cell_type": "markdown",
      "metadata": {
        "id": "OO7KOgMp1Mzk"
      },
      "source": [
        "### **Exercise 3**\n",
        "\n",
        "**For this exercise, we will be using the [HortonGeneralHospital.csv](https://archive.ics.uci.edu/ml/machine-learning-databases/00549/HortonGeneralHospital.csv) (https://archive.ics.uci.edu/ml/machine-learning-databases/00549/HortonGeneralHospital.csv) a dataset provided on the _UCI Machine Learning Repository_.**\n",
        "\n",
        "**In this dataset we have monthly numbers of transfers from Emergency Room into Critical Care classified in three exclusive categories at Horton General Hospital (Banbury, UK) from November 1999 to May 2011. the three categories are Cardio-respiratory arrest, Respiratory arrest and Hypoglycaemic arrest. You'll also find in this dataset the monthly total nomber of patients entering Emergency Room.**\n",
        "\n",
        "**Description of variables:**\n",
        "\n",
        "1. **Import the dataset using the url. (__Hint__: Check the `read_csv` pandas' funtion).**\n",
        "2. **Use the dates as an index.**\n",
        "3. **Give the date with the most admission to Emergency Room.**\n",
        "4. **How many Hypoglycaemic arrest were recorded for 2004.**\n",
        "5. **From December 2003 to February 2004, use a time function to give you how many days passed.**\n",
        "6. **Do a yearly summary of each column. (__Hint__: Use the `groupby` and `agg` methods of Pandas.)** \n",
        "7. **Create a new column with a cummulative sum of the Cardio-respiratory arrest.**\n",
        "8. **Create a new column with a rolling mean (with a 3 month windows) of the admission to Emergency Room and plot the result.**"
      ]
    },
    {
      "cell_type": "code",
      "metadata": {
        "id": "gUO2YRNXB9qe"
      },
      "source": [
        ""
      ],
      "execution_count": null,
      "outputs": []
    }
  ]
}