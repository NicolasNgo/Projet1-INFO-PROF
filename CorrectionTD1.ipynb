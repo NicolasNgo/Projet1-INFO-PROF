{
  "nbformat": 4,
  "nbformat_minor": 0,
  "metadata": {
    "colab": {
      "name": "CorrectionTD1.ipynb",
      "provenance": [],
      "collapsed_sections": [
        "n6eQlU9xu0w2",
        "K6haYvGux4JB",
        "_OfEIwpQ6iwU",
        "kLGQIUQvO5M-",
        "4GsDy8bSO3F2",
        "QzGoD-lVSozL",
        "tO0HV2OnS9K7",
        "eUZzheLU6XUs",
        "M5nMikipyhEw",
        "1mNzai8Q6q8N",
        "y2PyoBIc2k0m",
        "b10mrz7q5jlr",
        "8PzQVYVY_S6L",
        "fxGXYnDBGzBv",
        "fq5iu4JxMkRZ",
        "URQeMsxmNk36",
        "KWn7MaZPV_zo",
        "p-Ia_gxNbMRx",
        "Sx8RA_f8dqTh",
        "ptcAy9NIgTvu",
        "Omv334Q_qTW2",
        "Kh5hqphWq8qO",
        "Up-wj6MvriGo",
        "BoAbUJBnsAN4",
        "dmUZBZ0hs7C0",
        "EfAiP6GKu5NM",
        "zmAEcV-uxPqQ"
      ],
      "authorship_tag": "ABX9TyMm5lLxXRTqrnP5osg8tYVd",
      "include_colab_link": true
    },
    "kernelspec": {
      "name": "python3",
      "display_name": "Python 3"
    },
    "language_info": {
      "name": "python"
    }
  },
  "cells": [
    {
      "cell_type": "markdown",
      "metadata": {
        "id": "view-in-github",
        "colab_type": "text"
      },
      "source": [
        "<a href=\"https://colab.research.google.com/github/NicolasNgo/Projet1-INFO-PROF/blob/main/CorrectionTD1.ipynb\" target=\"_parent\"><img src=\"https://colab.research.google.com/assets/colab-badge.svg\" alt=\"Open In Colab\"/></a>"
      ]
    },
    {
      "cell_type": "markdown",
      "metadata": {
        "id": "mV4m_JuNtGnO"
      },
      "source": [
        "# **Correction TD1 - Basics**\n",
        "\n",
        "## **A) Object types and variables**\n",
        "\n",
        "### **Strings**\n",
        "\n",
        "\n",
        "\n",
        "---\n",
        "\n",
        "\n",
        "\n",
        "#### **Exercise 1 - Try to guess what these commands will do**\n",
        "\n",
        "\n",
        "\n",
        "```\n",
        "my_string = \"I like Python!\"\n",
        "my_string[2:]\n",
        "my_string[5:8]\n",
        "my_string[0:-5]\n",
        "my_string[:]\n",
        "```\n",
        "\n"
      ]
    },
    {
      "cell_type": "markdown",
      "metadata": {
        "id": "n6eQlU9xu0w2"
      },
      "source": [
        "#### **Correction**\n"
      ]
    },
    {
      "cell_type": "markdown",
      "metadata": {
        "id": "hscpdpP4tnzO"
      },
      "source": [
        "```\n",
        "my_string[2:]\n",
        "```\n",
        "will print the element from the index 2 to the end of the string: \"like Python!\"\n",
        "\n",
        "```\n",
        "my_string[5:8]\n",
        "```\n",
        "will print the elements between the index 5 and the index 8: 'e P'\n",
        "\n",
        "```\n",
        "my_string[0:-5]\n",
        "```\n",
        "will print the elements from the first character (index 0) to the 5th element starting from the end: 'I like Py'\n",
        "\n",
        "\n",
        "\n",
        "```\n",
        "my_string[:]\n",
        "```\n",
        "will print the element between the first and the last element of the string, i.e. the whole string:\n",
        "'I like Python!'\n",
        "\n",
        "\n",
        "\n",
        "\n",
        "\n",
        "\n"
      ]
    },
    {
      "cell_type": "markdown",
      "metadata": {
        "id": "JtGLKXalu6pe"
      },
      "source": [
        "\n",
        "\n",
        "---\n",
        "\n",
        "\n",
        "#### **Exercise 2 - Text analysis**\n",
        "**Consider the following text:**  \n",
        "_\"Genuine love is rarely an emotional space where needs are instantly gratified. To know love we have to invest time and commitment...  \n",
        "'dreaming that love will save us, solve all our problems or provide a steady state of bliss or security only keeps us stuck in wishful fantasy, undermining the real power of the love -- which is to transform us.'  \n",
        "Many people want love to function like a drug, giving them an immediate and sustained high. They want to do nothing, just passively receive the good feeling.\"_\n",
        "\n",
        "**1. Assign the text to a string variable, with regards to the quotes and line breaks.**  \n",
        "**2.Display how many \"love\" are present in the text, with a substitution**  \n",
        "**3. Add the author's name at the end of the quote (Bell Hooks) and print the new quote.**\n"
      ]
    },
    {
      "cell_type": "markdown",
      "metadata": {
        "id": "K6haYvGux4JB"
      },
      "source": [
        "\n",
        "#### **Correction**\n"
      ]
    },
    {
      "cell_type": "markdown",
      "metadata": {
        "id": "eV3Z6m8qAAVF"
      },
      "source": [
        "**1.** In order to include the line breaks and single quotes of the text, we need to use a triple quotes to assign this text to a string variable"
      ]
    },
    {
      "cell_type": "code",
      "metadata": {
        "id": "Kr-PWA_ZvtQv",
        "colab": {
          "base_uri": "https://localhost:8080/",
          "height": 287
        },
        "outputId": "4fc37cc2-13dd-4016-8a68-4d3444d632ec"
      },
      "source": [
        "my_string = '''\"Genuine love is rarely an emotional space where needs are instantly gratified. To know love we have to invest time and commitment...\n",
        "'dreaming that love will save us, solve all our problems or provide a steady state of bliss or security only keeps us stuck in wishful fantasy, undermining the real power of the love -- which is to transform us.'\n",
        "Many people want love to function like a drug, giving them an immediate and sustained high. They want to do nothing, just passively receive the good feeling.\"'''\n",
        "\n",
        "print(my_string)\n",
        "\n",
        "my_string.count()"
      ],
      "execution_count": null,
      "outputs": [
        {
          "output_type": "stream",
          "name": "stdout",
          "text": [
            "\"Genuine love is rarely an emotional space where needs are instantly gratified. To know love we have to invest time and commitment...\n",
            "'dreaming that love will save us, solve all our problems or provide a steady state of bliss or security only keeps us stuck in wishful fantasy, undermining the real power of the love -- which is to transform us.'\n",
            "Many people want love to function like a drug, giving them an immediate and sustained high. They want to do nothing, just passively receive the good feeling.\"\n"
          ]
        },
        {
          "output_type": "error",
          "ename": "AttributeError",
          "evalue": "ignored",
          "traceback": [
            "\u001b[0;31m---------------------------------------------------------------------------\u001b[0m",
            "\u001b[0;31mAttributeError\u001b[0m                            Traceback (most recent call last)",
            "\u001b[0;32m<ipython-input-3-a83b1297036b>\u001b[0m in \u001b[0;36m<module>\u001b[0;34m()\u001b[0m\n\u001b[1;32m      5\u001b[0m \u001b[0mprint\u001b[0m\u001b[0;34m(\u001b[0m\u001b[0mmy_string\u001b[0m\u001b[0;34m)\u001b[0m\u001b[0;34m\u001b[0m\u001b[0;34m\u001b[0m\u001b[0m\n\u001b[1;32m      6\u001b[0m \u001b[0;34m\u001b[0m\u001b[0m\n\u001b[0;32m----> 7\u001b[0;31m \u001b[0mmy_string\u001b[0m\u001b[0;34m.\u001b[0m\u001b[0mcaptialize\u001b[0m\u001b[0;34m(\u001b[0m\u001b[0;34m)\u001b[0m\u001b[0;34m\u001b[0m\u001b[0;34m\u001b[0m\u001b[0m\n\u001b[0m",
            "\u001b[0;31mAttributeError\u001b[0m: 'str' object has no attribute 'captialize'"
          ]
        }
      ]
    },
    {
      "cell_type": "markdown",
      "metadata": {
        "id": "DJQS0uiV_AnU"
      },
      "source": [
        "**2.** We use the *count()* method.\n"
      ]
    },
    {
      "cell_type": "code",
      "metadata": {
        "id": "zGHd8gRE_P_W",
        "colab": {
          "base_uri": "https://localhost:8080/"
        },
        "outputId": "61c76678-fa7d-432b-b87c-0e3c38057a7c"
      },
      "source": [
        "love_count = my_string.count(\"love\")\n",
        "print(\"There is %i times the word 'love' in this quotes.\" % love_count)"
      ],
      "execution_count": null,
      "outputs": [
        {
          "output_type": "stream",
          "name": "stdout",
          "text": [
            "There is 5 times the word 'love' in this quotes.\n"
          ]
        }
      ]
    },
    {
      "cell_type": "markdown",
      "metadata": {
        "id": "ni8Iqlp0_Ug8"
      },
      "source": [
        "**3.** The author's name is assign to a variable and we create a new string by concatenation."
      ]
    },
    {
      "cell_type": "code",
      "metadata": {
        "id": "ZSxymGNA_e4M",
        "colab": {
          "base_uri": "https://localhost:8080/"
        },
        "outputId": "42150621-9a58-4b3b-f442-7f3701347b12"
      },
      "source": [
        "author = \"Bell Hooks\"\n",
        "new_string = my_string +  author\n",
        "print(new_string)"
      ],
      "execution_count": null,
      "outputs": [
        {
          "output_type": "stream",
          "name": "stdout",
          "text": [
            "\"Genuine love is rarely an emotional space where needs are instantly gratified. To know love we have to invest time and commitment...\n",
            "'dreaming that love will save us, solve all our problems or provide a steady state of bliss or security only keeps us stuck in wishful fantasy, undermining the real power of the love -- which is to transform us.'\n",
            "Many people want love to function like a drug, giving them an immediate and sustained high. They want to do nothing, just passively receive the good feeling.\"Bell Hooks\n"
          ]
        }
      ]
    },
    {
      "cell_type": "markdown",
      "metadata": {
        "id": "NfRKgSGxADpV"
      },
      "source": [
        "\n",
        "\n",
        "\n",
        "---\n",
        "\n",
        "\n",
        "### **Lists**\n"
      ]
    },
    {
      "cell_type": "markdown",
      "metadata": {
        "id": "RTUbMDPlARO1"
      },
      "source": [
        "\n",
        "\n",
        "---\n",
        "\n",
        "\n",
        "\n",
        "#### **Exercise 3 - Sort lists**\n",
        "\n",
        "**With the following list of names and measurements do:**  \n",
        "**1. Create two separate lists, one for the names and one for the measurements.**  \n",
        "**2. Sort all the measurements by decreasing order and display the three smallest values.**  \n",
        "**3. Sort all the names by alphabetical order and display the five first names, excepting the first one.**  \n",
        "**4. A mistake has been made in the list, replace the \"0.4\" measurement by \"0.34\" and print the value of the three smallest values of the new list**\n",
        "\n",
        "```\n",
        "my_list = [\"Michael\", 0.35, \"Yannick\",0.4, 0.2, 0.1, \"Jean\", 0.8, \"Abir\", \"John\", \"Maria\", 2.2, 2.3, 4.0, \"Abraham\", 5.2, \"Karen\", \"Ismael\", 2.7, 5.2]\n",
        "```\n"
      ]
    },
    {
      "cell_type": "markdown",
      "metadata": {
        "id": "_OfEIwpQ6iwU"
      },
      "source": [
        "#### **Correction**"
      ]
    },
    {
      "cell_type": "markdown",
      "metadata": {
        "id": "psfeNK6PBrzu"
      },
      "source": [
        "**1.** For this exercise we create the two lists \"by hand\" since we do not know better yet !\n"
      ]
    },
    {
      "cell_type": "code",
      "metadata": {
        "id": "Xm8eY1sSBuAv"
      },
      "source": [
        "my_list = [\"Michael\", 0.35, \"Yannick\",0.4, 0.2, 0.1, \"Jean\", 0.8, \"Abir\", \"John\", \"Maria\", 2.2, 2.3, 4.0, \"Abraham\", 5.2, \"Karen\", \"Ismael\", 2.7, 5.2]\n",
        "names = [\"Michael\", \"Yannick\",\"Jean\",\"Abir\",\"John\",\"Maria\",\"Abraham\",\"Karen\",\"Ismael\"]\n",
        "measurements = [0.35, 0.4, 0.2, 0.1, 0.8, 2.2, 2.3, 4.0, 5.2, 2.7, 5.2]"
      ],
      "execution_count": null,
      "outputs": []
    },
    {
      "cell_type": "markdown",
      "metadata": {
        "id": "wGo7UXKRCscf"
      },
      "source": [
        "**2.** We use the *sort()* method of a list object with the argument *reverse = True*. \n"
      ]
    },
    {
      "cell_type": "code",
      "metadata": {
        "colab": {
          "base_uri": "https://localhost:8080/"
        },
        "id": "W1TZnzulrlSd",
        "outputId": "b637c0f6-f780-49a2-9c3f-096cf4522e67"
      },
      "source": [
        "help(list.sort)"
      ],
      "execution_count": null,
      "outputs": [
        {
          "output_type": "stream",
          "name": "stdout",
          "text": [
            "Help on method_descriptor:\n",
            "\n",
            "sort(self, /, *, key=None, reverse=False)\n",
            "    Stable sort *IN PLACE*.\n",
            "\n"
          ]
        }
      ]
    },
    {
      "cell_type": "code",
      "metadata": {
        "id": "44t7_6RGD5Hh",
        "colab": {
          "base_uri": "https://localhost:8080/"
        },
        "outputId": "7be481ac-f898-45f4-b1d3-0f82e74ae55a"
      },
      "source": [
        "measurements.sort(reverse = True)\n",
        "measurements"
      ],
      "execution_count": null,
      "outputs": [
        {
          "output_type": "execute_result",
          "data": {
            "text/plain": [
              "[5.2, 5.2, 4.0, 2.7, 2.3, 2.2, 0.8, 0.4, 0.35, 0.2, 0.1]"
            ]
          },
          "metadata": {},
          "execution_count": 9
        }
      ]
    },
    {
      "cell_type": "markdown",
      "metadata": {
        "id": "rGSeGh0rFJRa"
      },
      "source": [
        "For the three smallest values, you have to print the last 3 values of your sorted list (since it is sorted by decreasing order). There's a lot of possible way to do it.  \n",
        "**First**, You can use negative indexing; \n",
        "* list[-1] will give you the last element of your list,\n",
        "* list[-2] will give you the penultimate element of your list,\n",
        "* list[-2:] will give you the last and punultimate element of your list. \n",
        "So in order to extract the last three elements you have to use:"
      ]
    },
    {
      "cell_type": "code",
      "metadata": {
        "id": "PQfnk_B3F-UM",
        "colab": {
          "base_uri": "https://localhost:8080/"
        },
        "outputId": "2e55a695-1703-4001-be68-d84ca081a285"
      },
      "source": [
        "measurements[-3:]"
      ],
      "execution_count": null,
      "outputs": [
        {
          "output_type": "execute_result",
          "data": {
            "text/plain": [
              "[0.35, 0.2, 0.1]"
            ]
          },
          "metadata": {},
          "execution_count": 10
        }
      ]
    },
    {
      "cell_type": "markdown",
      "metadata": {
        "id": "gk3Xzb7oGPfk"
      },
      "source": [
        "**Second**, you can use the total length of the list (given by *len()* function) and slice from the total length minus 3 to the end of the list:"
      ]
    },
    {
      "cell_type": "code",
      "metadata": {
        "id": "PLOVA8V9GdEt",
        "colab": {
          "base_uri": "https://localhost:8080/"
        },
        "outputId": "173bc791-92c8-4068-b3f5-d2b1b18c0387"
      },
      "source": [
        "measurements[len(measurements)-1:]"
      ],
      "execution_count": null,
      "outputs": [
        {
          "output_type": "execute_result",
          "data": {
            "text/plain": [
              "[0.1]"
            ]
          },
          "metadata": {},
          "execution_count": 12
        }
      ]
    },
    {
      "cell_type": "markdown",
      "metadata": {
        "id": "eQAzR6SoGmfT"
      },
      "source": [
        "**Third**, you can reverse the list using `list[::-1]` and then slice the first three elements: "
      ]
    },
    {
      "cell_type": "code",
      "metadata": {
        "id": "iZIUTgn1GzgE",
        "colab": {
          "base_uri": "https://localhost:8080/"
        },
        "outputId": "e556470e-7c68-4b3a-fd5e-ce75399a054f"
      },
      "source": [
        "measurements[::-1][:3]"
      ],
      "execution_count": null,
      "outputs": [
        {
          "output_type": "execute_result",
          "data": {
            "text/plain": [
              "[0.1, 0.2, 0.35]"
            ]
          },
          "metadata": {},
          "execution_count": 14
        }
      ]
    },
    {
      "cell_type": "markdown",
      "metadata": {
        "id": "h735GL8AHYrk"
      },
      "source": [
        "**3.** By using the *sort()* method on a list of strings, Python will understand that you want to sort them by alphabetical order. In order to slice the five first names excepting the first one, you have to slice your list from 1 to 6."
      ]
    },
    {
      "cell_type": "code",
      "metadata": {
        "id": "_QQSbWjVH6LN",
        "colab": {
          "base_uri": "https://localhost:8080/"
        },
        "outputId": "95c92926-0731-4805-9ddc-16bf5a1c799d"
      },
      "source": [
        "names.sort(reverse = False)\n",
        "print(names[1:6])"
      ],
      "execution_count": null,
      "outputs": [
        {
          "output_type": "stream",
          "name": "stdout",
          "text": [
            "['Abraham', 'Ismael', 'Jean', 'John', 'Karen']\n"
          ]
        }
      ]
    },
    {
      "cell_type": "markdown",
      "metadata": {
        "id": "vIv972ePIDzC"
      },
      "source": [
        "**4.** We used to *remove()* method of list objects and *extend()* method to add the new value."
      ]
    },
    {
      "cell_type": "code",
      "metadata": {
        "id": "CifBKub3I1QP",
        "colab": {
          "base_uri": "https://localhost:8080/"
        },
        "outputId": "3b9637dc-8bc3-456a-ba3e-08b65c1f9640"
      },
      "source": [
        "measurements.remove(0.4)\n",
        "measurements.extend([0.34])\n",
        "print(measurements)\n",
        "measurements.sort(reverse = True)\n",
        "print(measurements[-3:])"
      ],
      "execution_count": null,
      "outputs": [
        {
          "output_type": "stream",
          "name": "stdout",
          "text": [
            "[5.2, 5.2, 4.0, 2.7, 2.3, 2.2, 0.8, 0.35, 0.2, 0.1, 0.34]\n",
            "[0.34, 0.2, 0.1]\n"
          ]
        }
      ]
    },
    {
      "cell_type": "markdown",
      "metadata": {
        "id": "alHWLpCyI0Ag"
      },
      "source": [
        "\n",
        "\n",
        "\n",
        "---\n",
        "\n",
        "\n",
        "### **Tuples**\n",
        "\n",
        "\n",
        "\n",
        "---\n",
        "\n"
      ]
    },
    {
      "cell_type": "markdown",
      "metadata": {
        "id": "ZLHzjwtuJRJf"
      },
      "source": [
        "#### **Exercise 4 - Manipulate tuples**\n",
        "\n",
        "**Consider the following collection of patient names:**  \n",
        "Gael, Mathis, Alexia, Oceane, Gaspard, Leo, Gabrielle, Laura, David and Hugo.  \n",
        "**1. Assign the names to a tuple.**  \n",
        "**2. Check if Marie is in the tuple, if not, add her to the tuple.**  \n",
        "**3. A mistake was made, remove \"Laura\" from the tuple, display how many names are presents in the tuple.**  \n",
        "**4. Assign each name to a waiting room (waitingRoom1, waitingRoom2 and waitingRoom3), but be careful, only the first waiting room can take more than one patient.**  "
      ]
    },
    {
      "cell_type": "markdown",
      "metadata": {
        "id": "kLGQIUQvO5M-"
      },
      "source": [
        "\n",
        "#### **Correction**"
      ]
    },
    {
      "cell_type": "markdown",
      "metadata": {
        "id": "NltPFZRbKE1Z"
      },
      "source": [
        "**1.** We assign the names to a tuple using the parenthesis constructor."
      ]
    },
    {
      "cell_type": "code",
      "metadata": {
        "id": "SpVTQ3iqKB9A"
      },
      "source": [
        "patients = (\"Gael\", \"Mathis\", \"Alexia\", \"Oceane\", \"Gaspard\", \"Leo\", \"Gabrielle\", \"Laura\",\" David\", \"Hugo\")"
      ],
      "execution_count": null,
      "outputs": []
    },
    {
      "cell_type": "markdown",
      "metadata": {
        "id": "R4KZnpQPKNlw"
      },
      "source": [
        "**2.** We check if 'Marie' is in the tuple with the *in* function"
      ]
    },
    {
      "cell_type": "code",
      "metadata": {
        "id": "5q_b0zjCKVRp",
        "colab": {
          "base_uri": "https://localhost:8080/"
        },
        "outputId": "48d0d302-8834-41cc-ad39-d2d85ddf67de"
      },
      "source": [
        "\"Marie\" in patients"
      ],
      "execution_count": null,
      "outputs": [
        {
          "output_type": "execute_result",
          "data": {
            "text/plain": [
              "False"
            ]
          },
          "metadata": {},
          "execution_count": 25
        }
      ]
    },
    {
      "cell_type": "markdown",
      "metadata": {
        "id": "NLMLXOPoKZd5"
      },
      "source": [
        "She's not in the tuple, we have to add her, there is at least 2 ways to do it. \n",
        "\n",
        "**First way** Cast patients into a list and add her (remember tuples are immutable, there's no *extend* method) and cast the list into a tuple again."
      ]
    },
    {
      "cell_type": "code",
      "metadata": {
        "id": "Oji7ph2MKrTB",
        "colab": {
          "base_uri": "https://localhost:8080/"
        },
        "outputId": "ecd09dfa-7e9f-4b01-f3f5-8d75a832580b"
      },
      "source": [
        "patients_list = list(patients)\n",
        "patients_list.extend([\"Marie\"])\n",
        "patients = tuple(patients_list)\n",
        "print(patients)"
      ],
      "execution_count": null,
      "outputs": [
        {
          "output_type": "stream",
          "name": "stdout",
          "text": [
            "('Gael', 'Mathis', 'Alexia', 'Oceane', 'Gaspard', 'Leo', 'Gabrielle', 'Laura', ' David', 'Hugo', 'Marie')\n"
          ]
        }
      ]
    },
    {
      "cell_type": "code",
      "metadata": {
        "colab": {
          "base_uri": "https://localhost:8080/",
          "height": 36
        },
        "id": "o06t1MSdtay5",
        "outputId": "2bafb925-5d61-465b-a3ec-c2b918d20c44"
      },
      "source": [
        ""
      ],
      "execution_count": null,
      "outputs": [
        {
          "output_type": "execute_result",
          "data": {
            "application/vnd.google.colaboratory.intrinsic+json": {
              "type": "string"
            },
            "text/plain": [
              "'Gael'"
            ]
          },
          "metadata": {},
          "execution_count": 21
        }
      ]
    },
    {
      "cell_type": "markdown",
      "metadata": {
        "id": "1Zivk7YDK4qp"
      },
      "source": [
        "**Second way** Create a tuple with only Marie in it and concatenate the two tuples."
      ]
    },
    {
      "cell_type": "code",
      "metadata": {
        "id": "TqjXPYLUK-wx",
        "colab": {
          "base_uri": "https://localhost:8080/"
        },
        "outputId": "a5a55ecf-ae14-425a-dfd9-8db51e10663f"
      },
      "source": [
        "patient = (\"Marie\",) # remember to add a \",\" if there's only one element in the tuple\n",
        "patients = patients + patient\n",
        "print(patients)"
      ],
      "execution_count": null,
      "outputs": [
        {
          "output_type": "stream",
          "name": "stdout",
          "text": [
            "('Gael', 'Mathis', 'Alexia', 'Oceane', 'Gaspard', 'Leo', 'Gabrielle', 'Laura', ' David', 'Hugo', 'Marie', 'Marie')\n"
          ]
        }
      ]
    },
    {
      "cell_type": "markdown",
      "metadata": {
        "id": "fLMLorQCLSYq"
      },
      "source": [
        "**3.** Tuples are immutable, there's no *remove()* method built-in. So we have to cast *patients* into a list, remove \"Laura\" from the list and cast the list into a tuple again."
      ]
    },
    {
      "cell_type": "code",
      "metadata": {
        "id": "iiKprXnkLRsI",
        "colab": {
          "base_uri": "https://localhost:8080/"
        },
        "outputId": "3fe963e1-4b63-44e9-e808-869140eb5e8f"
      },
      "source": [
        "my_list = list(patients)\n",
        "my_list.remove(\"Laura\")\n",
        "patients = tuple(my_list)\n",
        "print(patients)\n",
        "print(\"There's %i names in this tuples\" % len(patients))"
      ],
      "execution_count": null,
      "outputs": [
        {
          "output_type": "stream",
          "name": "stdout",
          "text": [
            "('Gael', 'Mathis', 'Alexia', 'Oceane', 'Gaspard', 'Leo', 'Gabrielle', ' David', 'Hugo', 'Marie', 'Marie')\n",
            "There's 11 names in this tuples\n"
          ]
        }
      ]
    },
    {
      "cell_type": "markdown",
      "metadata": {
        "id": "6DcHQiNOLw6q"
      },
      "source": [
        "**4.** For this task, we could assign \"by hand\" every name to a waiting room, but we can also use the **unpacking** functionality of the tuples. This works by assigning a tuple to multiple variables between parenthesis. \n",
        "\n",
        "```\n",
        "(variable1, variable2, variable3) = tuple\n",
        "```\n",
        "\n",
        "If the number of variables is less than the number of values, it will not work, unless you use the '\\*' at the begining of the variable name, this way, a list of values will be assign to the variable, until there is the same number of values left and variables. For our exercise, we will add an '\\*' to the waitingRoom1 because the other waiting room cannot handle more than one patient."
      ]
    },
    {
      "cell_type": "code",
      "metadata": {
        "id": "F0qETGJjJ7ZC",
        "colab": {
          "base_uri": "https://localhost:8080/"
        },
        "outputId": "7c5d2e66-454a-4e50-9480-58d41f3776d5"
      },
      "source": [
        "(*waitingRoom1, waitingRoom2, waitingRoom3) = patients\n",
        "print(\"First waiting room : %s\" % waitingRoom1)\n",
        "print(\"Second waiting room : %s\" % waitingRoom2)\n",
        "print(\"Third waiting room : %s\" % waitingRoom3)"
      ],
      "execution_count": null,
      "outputs": [
        {
          "output_type": "stream",
          "name": "stdout",
          "text": [
            "First waiting room : ['Gael', 'Mathis', 'Alexia', 'Oceane', 'Gaspard', 'Leo', 'Gabrielle', ' David', 'Hugo']\n",
            "Second waiting room : Marie\n",
            "Third waiting room : Marie\n"
          ]
        }
      ]
    },
    {
      "cell_type": "markdown",
      "metadata": {
        "id": "hgU7cZb1O-3m"
      },
      "source": [
        "\n",
        "\n",
        "\n",
        "---\n",
        "\n",
        "\n",
        "### **Dictionaries**\n",
        "\n",
        "\n",
        "\n",
        "---\n",
        "\n"
      ]
    },
    {
      "cell_type": "markdown",
      "metadata": {
        "id": "4Wp7qg33PCm2"
      },
      "source": [
        "#### **Exercise 5 - Create a dictionary from the two following lists**\n",
        "\n",
        "\n",
        "\n",
        "```\n",
        "keys = ['Ten', 'Twenty', 'Thirty']\n",
        "values = [10, 20, 30]\n",
        "```\n",
        "**Hint**: Use the *zip* function\n"
      ]
    },
    {
      "cell_type": "markdown",
      "metadata": {
        "id": "4GsDy8bSO3F2"
      },
      "source": [
        "\n",
        "#### **Correction**\n"
      ]
    },
    {
      "cell_type": "code",
      "metadata": {
        "id": "Xxs9iEkMPZi4",
        "colab": {
          "base_uri": "https://localhost:8080/"
        },
        "outputId": "905a6051-4470-4116-def9-0cf60b0ee762"
      },
      "source": [
        "keys = ['Ten', 'Twenty', 'Thirty']\n",
        "values = [10, 20, 30]\n",
        "my_dict = dict(zip(keys, values))\n",
        "my_dict"
      ],
      "execution_count": null,
      "outputs": [
        {
          "output_type": "execute_result",
          "data": {
            "text/plain": [
              "{'Ten': 10, 'Thirty': 30, 'Twenty': 20}"
            ]
          },
          "metadata": {},
          "execution_count": 30
        }
      ]
    },
    {
      "cell_type": "code",
      "metadata": {
        "id": "JvovARGSu5WF"
      },
      "source": [
        ""
      ],
      "execution_count": null,
      "outputs": []
    },
    {
      "cell_type": "code",
      "metadata": {
        "id": "Ucu4EhYWuZ_6"
      },
      "source": [
        "my_dict = {'Ten':10, 'Twenty':20, 'Thirty':30}"
      ],
      "execution_count": null,
      "outputs": []
    },
    {
      "cell_type": "markdown",
      "metadata": {
        "id": "Yg2P7GggPtsH"
      },
      "source": [
        "\n",
        "\n",
        "\n",
        "---\n",
        "\n",
        "\n",
        "#### **Exercise 6 - Merge the following dictionaries into one dictionary**\n",
        "\n",
        "\n",
        "\n",
        "```\n",
        "dict1 = {'Ten':10, 'Twenty':20, 'Thirty':30}\n",
        "dict2 = {'Thirty':30, 'Fourty':40, 'Fifty':30}\n",
        "```\n",
        "\n"
      ]
    },
    {
      "cell_type": "markdown",
      "metadata": {
        "id": "QzGoD-lVSozL"
      },
      "source": [
        "#### **Correction**"
      ]
    },
    {
      "cell_type": "code",
      "metadata": {
        "id": "Ub3QAR52QHny",
        "colab": {
          "base_uri": "https://localhost:8080/"
        },
        "outputId": "6707eae4-5f7b-425c-dda2-07c498243b88"
      },
      "source": [
        "dict1 = {'Ten':10, 'Twenty':20, 'Thirty':30}\n",
        "dict2 = {'Thirty':30, 'Fourty':40, 'Fifty':50}\n",
        "\n",
        "dict3 = {**dict1, **dict2}\n",
        "print(dict3)"
      ],
      "execution_count": null,
      "outputs": [
        {
          "output_type": "stream",
          "name": "stdout",
          "text": [
            "{'Ten': 10, 'Twenty': 20, 'Thirty': 30, 'Fourty': 40, 'Fifty': 50}\n"
          ]
        }
      ]
    },
    {
      "cell_type": "markdown",
      "metadata": {
        "id": "Siw2X6F3OlIO"
      },
      "source": [
        "\n",
        "\n",
        "\n",
        "---\n",
        "\n",
        "\n",
        "#### **Exercise 7 - Rename the key _city_ to _location_ in the following dictionary**\n",
        "\n",
        "\n",
        "\n",
        "```\n",
        "sampleDict = {\"name\":\"Kelly\",\n",
        "              \"age\":25,\n",
        "              \"salary\":8000,\n",
        "              \"city\":\"New York\"}\n",
        "```\n",
        "**Hint**: Check the *pop* method\n",
        "\n"
      ]
    },
    {
      "cell_type": "markdown",
      "metadata": {
        "id": "tO0HV2OnS9K7"
      },
      "source": [
        "\n",
        "#### **Correction**\n"
      ]
    },
    {
      "cell_type": "code",
      "metadata": {
        "id": "lIuA0pbFS8P8",
        "colab": {
          "base_uri": "https://localhost:8080/"
        },
        "outputId": "48be2a8f-43c3-4e27-dff7-6ad2ffc3aa1b"
      },
      "source": [
        "sampleDict = {\"name\":\"Kelly\",\n",
        "              \"age\":25,\n",
        "              \"salary\":8000,\n",
        "              \"city\":\"New York\"}\n",
        "\n",
        "sampleDict['location']= sampleDict.pop(\"city\")\n",
        "sampleDict"
      ],
      "execution_count": null,
      "outputs": [
        {
          "output_type": "execute_result",
          "data": {
            "text/plain": [
              "{'age': 25, 'location': 'New York', 'name': 'Kelly', 'salary': 8000}"
            ]
          },
          "metadata": {},
          "execution_count": 37
        }
      ]
    },
    {
      "cell_type": "markdown",
      "metadata": {
        "id": "RxS8WX33TY3V"
      },
      "source": [
        "\n",
        "\n",
        "\n",
        "---\n",
        "\n",
        "\n",
        "#### **Exercise 8 - From the following dictionary, return the classes with the highest grades to the lowest**\n",
        "\n",
        "\n",
        "```\n",
        "my_dict = {'History' : 14,\n",
        "           'Math' : 8,\n",
        "           'Physics' : 10,\n",
        "           'Statistics' : 12,\n",
        "           'Geography' : 18}\n",
        "\n",
        "```\n",
        "**Expected output**:[\"Geography\", \"History\", \"Statistics\", \"Physics\", \"Math\"]  \n",
        "**Hint**: Check the _sorted_ function and it's documentation about the _key_ argument.\n",
        "\n"
      ]
    },
    {
      "cell_type": "markdown",
      "metadata": {
        "id": "eUZzheLU6XUs"
      },
      "source": [
        "\n",
        "#### **Correction**"
      ]
    },
    {
      "cell_type": "markdown",
      "metadata": {
        "id": "zvMioF-aUD9U"
      },
      "source": [
        "\n",
        "\n",
        "\n",
        "For this exercise, we need to sort the values of the dictionary and print the keys with regards to the sorted values. We can use the *sorted* function of Python. Let's check the documentation of this function. \n",
        "\n",
        "The *sorted()* function sorts the elements of a given iterable in a specific order (ascending or descending) and returns it as a list. \n",
        "\n",
        "```\n",
        "sorted(iterable, key = None, reverse = False)\n",
        "```\n",
        "Parameters: \n",
        "* __iteratle__ - A sequence (string, tuple, list) or collection (set, dictionary) or any other iterator.\n",
        "* __reverse__ - If True, the sorted list is reversed (or sorted in descending order). \n",
        "* __key__ - A function that serves as a key for sort comparison. \n",
        "\n",
        "For this exercise we need to sort the dictionary values and returns the key associated with these values. If we use the dictionary as the iterable in the function, it will by default sort the *keys* of the dictionary, not the values. If we use *my_dict.items()* the values will be sorted but the function will only returns the *values* and not the *keys*. \n",
        "The trick is to use the dictionary as the iterable, and to use as a key the *get* method of the dictionary. The function provided in *key* will be applied to the given *iterable* and the function will sort the output of the function given in the *key* argument. By using *get* method as a key and the dictionary as an *iterable* the function will for each keys of the dictionary apply the get method which returns the value associated with this key and sort all the values then output the keys with regards to the sorted values. \n",
        "\n"
      ]
    },
    {
      "cell_type": "code",
      "metadata": {
        "id": "CBPL63JrXMDZ"
      },
      "source": [
        "my_dict = {'History' : 14,\n",
        "           'Math' : 8,\n",
        "           'Physics' : 10,\n",
        "           'Statistics' : 12,\n",
        "           'Geography' : 18}\n",
        "\n",
        "sorted(my_dict, key = my_dict.get, reverse = True)"
      ],
      "execution_count": null,
      "outputs": []
    },
    {
      "cell_type": "markdown",
      "metadata": {
        "id": "O2L_BppPxJvm"
      },
      "source": [
        "\n",
        "---\n",
        "### **Sets**\n",
        "\n",
        "---"
      ]
    },
    {
      "cell_type": "markdown",
      "metadata": {
        "id": "sAAdj7imxW92"
      },
      "source": [
        "#### **Exercise 9 - Here are three lists, give the common element(s) of the three lists as a set**\n",
        "\n",
        "\n",
        "\n",
        "```\n",
        "list1 = ['Marc', 'Gabriel', 'Astrid', 'John']\n",
        "list2 = ['Gabriel', 'Paul', 'Mathieu', 'John']\n",
        "list3 = ['Banana', 'Apple', 'Paul', 'Computer', 'Gabriel']\n",
        "```\n",
        "\n"
      ]
    },
    {
      "cell_type": "markdown",
      "metadata": {
        "id": "M5nMikipyhEw"
      },
      "source": [
        "#### **Correction**"
      ]
    },
    {
      "cell_type": "code",
      "metadata": {
        "id": "WeQtig4_x8Zf",
        "colab": {
          "base_uri": "https://localhost:8080/"
        },
        "outputId": "00636dae-42ce-4911-c59a-739091a95c49"
      },
      "source": [
        "list1 = ['Marc','Gabriel','Astrid','John']\n",
        "list2 = ['Gabriel','Paul','Mathieu','John']\n",
        "list3 = ['Banana','Apple','Paul','Computer','Gabriel']\n",
        "\n",
        "set1, set2, set3 = set(list1), set(list2), set(list3)\n",
        "set4 = set1.intersection(set2.intersection(set3))\n",
        "\n",
        "print(set1.intersection(set2.intersection(set3)))\n",
        "\n",
        "print(set4)"
      ],
      "execution_count": null,
      "outputs": [
        {
          "output_type": "stream",
          "name": "stdout",
          "text": [
            "{'Gabriel'}\n",
            "{'Gabriel'}\n"
          ]
        }
      ]
    },
    {
      "cell_type": "markdown",
      "metadata": {
        "id": "fpqRQCvzylLo"
      },
      "source": [
        "---\n",
        "#### **Exercise 10**\n",
        "\n",
        "**From the folowing sequence of letters, you'll have to print the letter with the most occurrences and the number of occurrences of this letter, whether it is lowercase or uppercase. You have to use at least 2 collections type and a string.**\n",
        "\n",
        "**This is sequence:** AlksErRoVpeWdsSaFsdCfafkpweRKddAPoSRCPsO"
      ]
    },
    {
      "cell_type": "markdown",
      "metadata": {
        "id": "1mNzai8Q6q8N"
      },
      "source": [
        "\n",
        "#### **Correction**\n"
      ]
    },
    {
      "cell_type": "markdown",
      "metadata": {
        "id": "DOYgwHrG6u9k"
      },
      "source": [
        "\n",
        "For this exercise, we will do the following steps:\n",
        "\n",
        "1. Assign the sequence to a string *s*, this way we can use the *lower()* method of string.\n",
        "2. Assign the string to a set *set_letters*. The set will remove every duplicate and we can get every single letter that appears in the sequence. \n",
        "3. Create a dictionary with *set_letters* as keys and no values. \n",
        "4. For each letter of *set_letters* we use the *count()* method on the string, created at step 1, to count the occurences of this letter in the sequence, we associate this number to the corresponding key in the dictionary.\n",
        "5. Retrieve the key/letter with the highest value/occurence with the *max* function.\n"
      ]
    },
    {
      "cell_type": "code",
      "metadata": {
        "id": "-SAz_Kxc8S1Y",
        "colab": {
          "base_uri": "https://localhost:8080/"
        },
        "outputId": "1ba1fcdf-9c73-4824-df8b-7358b307537b"
      },
      "source": [
        "# 1. \n",
        "s = 'AlksErRoVpeWdsSaFsdCfafkpweRKddAPoSRCPsO'\n",
        "s = s.lower()\n",
        "\n",
        "# 2.\n",
        "set_letters = set(s)\n",
        "\n",
        "# 3.\n",
        "my_dict = dict()\n",
        "my_dict.fromkeys(set_letters)\n",
        "\n",
        "print(set_letters)\n",
        "\n",
        "# 4. \n",
        "my_dict['k'] = s.count('k')\n",
        "my_dict['s'] = s.count('s')\n",
        "my_dict['r'] = s.count('r')\n",
        "my_dict['f'] = s.count('f')\n",
        "my_dict['a'] = s.count('a')\n",
        "my_dict['o'] = s.count('o')\n",
        "my_dict['p'] = s.count('p')\n",
        "my_dict['v'] = s.count('v')\n",
        "my_dict['w'] = s.count('w')\n",
        "my_dict['e'] = s.count('e')\n",
        "my_dict['d'] = s.count('d')\n",
        "my_dict['c'] = s.count('c')\n",
        "my_dict['l'] = s.count('l')\n",
        "\n",
        "# 5.\n",
        "max_letter = max(my_dict, key = my_dict.get)\n",
        "print('The letter \"%s\" has the most occurrences, it appears %i times in the sequence.' % (max_letter, my_dict.get(max_letter)))\n"
      ],
      "execution_count": null,
      "outputs": [
        {
          "output_type": "stream",
          "name": "stdout",
          "text": [
            "{'r', 'l', 's', 'w', 'k', 'v', 'f', 'p', 'd', 'a', 'e', 'c', 'o'}\n",
            "The letter \"s\" has the most occurrences, it appears 6 times in the sequence.\n"
          ]
        }
      ]
    },
    {
      "cell_type": "code",
      "metadata": {
        "colab": {
          "base_uri": "https://localhost:8080/"
        },
        "id": "coc7rvxfxENb",
        "outputId": "26c50f55-d15b-4932-ecb9-0f736c4f8da3"
      },
      "source": [
        ""
      ],
      "execution_count": null,
      "outputs": [
        {
          "output_type": "execute_result",
          "data": {
            "text/plain": [
              "{'a': 4,\n",
              " 'c': 2,\n",
              " 'd': 4,\n",
              " 'e': 3,\n",
              " 'f': 3,\n",
              " 'k': 3,\n",
              " 'l': 1,\n",
              " 'o': 3,\n",
              " 'p': 4,\n",
              " 'r': 4,\n",
              " 's': 6,\n",
              " 'v': 1,\n",
              " 'w': 2}"
            ]
          },
          "metadata": {},
          "execution_count": 46
        }
      ]
    },
    {
      "cell_type": "markdown",
      "metadata": {
        "id": "M03cRelF1wC9"
      },
      "source": [
        "---\n",
        "## **B) Conditional Statements**\n"
      ]
    },
    {
      "cell_type": "markdown",
      "metadata": {
        "id": "9dq-ZgMj10Et"
      },
      "source": [
        "---\n",
        "### **If Statements**\n",
        "---"
      ]
    },
    {
      "cell_type": "markdown",
      "metadata": {
        "id": "kOy3ht8o13AF"
      },
      "source": [
        "#### **Exercise 11**\n",
        "\n",
        "**The following dictionary contains the names, ages and locations of some fictionary patients.\n",
        "\n",
        "```\n",
        "patients = dict({\"Name\":['Patrice','Marine','Hugh'],\n",
        "                 \"Age\":['26','35','8'],\n",
        "                 \"Location\":['Marseille', 'Aix', 'Nice'})\n",
        "```\n",
        "**1. Check if Gabrielle, 22 from Lorient, is in the dictionary.**  \n",
        "**2. If not, add her with her information to the dictionary**  \n",
        "**3. Print the new dictionary**  \n",
        "**You have to use a _if statement_.**\n"
      ]
    },
    {
      "cell_type": "markdown",
      "metadata": {
        "id": "y2PyoBIc2k0m"
      },
      "source": [
        "#### **Correction**\n"
      ]
    },
    {
      "cell_type": "markdown",
      "metadata": {
        "id": "m2RqZ17i2sLW"
      },
      "source": [
        "First we assign the information to a dictionary. Then we use a *if statement* with, as a condition, the presence of 'Gabrielle' in the name list. If she's not there we use the *append* method of a dictionary to add her, and her information, to the dictionary."
      ]
    },
    {
      "cell_type": "code",
      "metadata": {
        "id": "S_TtU3R63Fln"
      },
      "source": [
        "patients = dict({\"Name\":['Patrice', 'Marine', 'Hugh'],\n",
        "                 \"Age\":['26','35','8'],\n",
        "                 \"Location\":['Marseille','Aix','Nice']})\n",
        "\n",
        "if 'Gabrielle' in patients['Name']:\n",
        "  print('The dictionary is complete')\n",
        "else:\n",
        "  patients['Name'].append('Gabrielle')\n",
        "  patients['Age'].append('22')\n",
        "  patients['Location'].append('Lorient')\n",
        "\n",
        "print(patients)"
      ],
      "execution_count": null,
      "outputs": []
    },
    {
      "cell_type": "markdown",
      "metadata": {
        "id": "VrfgHn90TPlL"
      },
      "source": [
        "---\n",
        "#### **Exercise 12**\n",
        "\n",
        "**Write a program that:**\n",
        "\n",
        "**1. Ask the user to input an integer**  \n",
        "**2. Print the value with a substitution**  \n",
        "**3. Print if the number is even**  "
      ]
    },
    {
      "cell_type": "markdown",
      "metadata": {
        "id": "b10mrz7q5jlr"
      },
      "source": [
        "\n",
        "#### **Correction**\n"
      ]
    },
    {
      "cell_type": "code",
      "metadata": {
        "id": "F7c83drM5qSz",
        "colab": {
          "base_uri": "https://localhost:8080/"
        },
        "outputId": "4997c178-fffc-41cf-b882-c8edf33f6f3a"
      },
      "source": [
        "integer = int(input(\"Give me an integer \"))\n",
        "if integer%2 == 0:\n",
        "  print('%i is an even number' % integer)\n",
        "else:\n",
        "  print('%i is an odd number' % integer)"
      ],
      "execution_count": null,
      "outputs": [
        {
          "output_type": "stream",
          "name": "stdout",
          "text": [
            "Give me an integer 5\n",
            "5 is an odd number\n"
          ]
        }
      ]
    },
    {
      "cell_type": "markdown",
      "metadata": {
        "id": "54RR3dXZ6Kn0"
      },
      "source": [
        "---\n",
        "### **Boolean Operations**\n",
        "---"
      ]
    },
    {
      "cell_type": "markdown",
      "metadata": {
        "id": "5WK9EH8Z6PNc"
      },
      "source": [
        "#### **Exercise 13**\n",
        "\n",
        "**From the following code, guess what will be printed. Justify your answer. **\n",
        "\n",
        "\n",
        "\n",
        "```\n",
        "var1 = True\n",
        "var2 = False\n",
        "x = 10\n",
        "y = '15'\n",
        "\n",
        "statement1 = not ((not var1) and var2) or var2\n",
        "statement2 = x != 10 or type(y) == int and x == 10\n",
        "\n",
        "if statement1 != statement2:\n",
        "  if statement1:\n",
        "    print('I love maths')\n",
        "  else:\n",
        "    print('I love physics')\n",
        "else:\n",
        "  print('I love Python')\n",
        "```\n",
        "\n",
        "\n",
        "\n"
      ]
    },
    {
      "cell_type": "markdown",
      "metadata": {
        "id": "8PzQVYVY_S6L"
      },
      "source": [
        "\n",
        "#### **Correction**"
      ]
    },
    {
      "cell_type": "markdown",
      "metadata": {
        "id": "7TcYtEYE_Xaj"
      },
      "source": [
        "The answer is: 'I love maths'\n",
        "\n",
        "In the first paragraph we initialize the variables. We have *var1* a boolean sets at True, *var2* a boolean sets at False, an integer *x* sets at 10 and a string *y* sets at '15'."
      ]
    },
    {
      "cell_type": "code",
      "metadata": {
        "id": "NMCzPK3u_s3f"
      },
      "source": [
        "var1 = True\n",
        "var2 = False\n",
        "x = 10\n",
        "y = '15'"
      ],
      "execution_count": null,
      "outputs": []
    },
    {
      "cell_type": "markdown",
      "metadata": {
        "id": "hVK_Gkj5_vsG"
      },
      "source": [
        "Now let's see the statements. We need to looks at order of priority  \n",
        "**statement 1** : `not ((not var1) and var2) or var2`\n",
        "This statement can be separated in two parts at the *OR* operator.\n",
        "\n",
        "**`not ((not var1) and var2)`** OR **`var2`**  \n",
        "`var2` is False so the right part of the statement is False. Since it is a *OR* statement, it could still be True if the left part is True. \n",
        "\n",
        "The left part of the statement,\n",
        "`not((not var1) and var2)`, can be considered as an *AND* statement. `var2` is False and not `var1` is False (since `var1` is True). So `(not var1) and var2` is False. So **`not ( (not var1) and var2)`** will be True, because of the *not*.\n",
        "\n",
        "In conclusion, left part of the statement is True so **statement1 = True**"
      ]
    },
    {
      "cell_type": "code",
      "metadata": {
        "colab": {
          "base_uri": "https://localhost:8080/"
        },
        "id": "GkRDwBl_3VGD",
        "outputId": "db58e681-0762-4889-82dd-dcf20dd68659"
      },
      "source": [
        "var1 = True\n",
        "not var1"
      ],
      "execution_count": null,
      "outputs": [
        {
          "output_type": "execute_result",
          "data": {
            "text/plain": [
              "False"
            ]
          },
          "metadata": {},
          "execution_count": 48
        }
      ]
    },
    {
      "cell_type": "code",
      "metadata": {
        "id": "tVc2kawRAGR1",
        "colab": {
          "base_uri": "https://localhost:8080/"
        },
        "outputId": "101466f3-d7d9-4f36-af2e-d6052a95898b"
      },
      "source": [
        "not ((not var1) and var2) or var2"
      ],
      "execution_count": null,
      "outputs": [
        {
          "output_type": "execute_result",
          "data": {
            "text/plain": [
              "True"
            ]
          },
          "metadata": {},
          "execution_count": 49
        }
      ]
    },
    {
      "cell_type": "markdown",
      "metadata": {
        "id": "pMGLFlZHD8-i"
      },
      "source": [
        "**statement2**: `x != 10 or type(y) == int and x == 10`\n",
        "This statement is also an **OR** statement. \n",
        "\n",
        "**`x!=10`** OR **`type(y) == int AND x == 10`**\n",
        "The left part of this statement is False since `x` is equal to 10.\n",
        "The right part of this statement is a *AND* statement. It is True if `x` is equal to 10 and `y` is a integer. `x` is equal to 10 but `y` is a string, so the right part of the statement is False.\n",
        "\n",
        "In conclusion, both left and right parts of **statement2** is false, so **statement2** is False."
      ]
    },
    {
      "cell_type": "code",
      "metadata": {
        "id": "s36mkWvIEzGk",
        "colab": {
          "base_uri": "https://localhost:8080/"
        },
        "outputId": "8dc2b10b-5451-4683-ace0-8ac5ea57a115"
      },
      "source": [
        "x != 10 or type(y) == int and x == 10"
      ],
      "execution_count": null,
      "outputs": [
        {
          "output_type": "execute_result",
          "data": {
            "text/plain": [
              "False"
            ]
          },
          "metadata": {},
          "execution_count": 52
        }
      ]
    },
    {
      "cell_type": "markdown",
      "metadata": {
        "id": "OC9ZSPFwE2W2"
      },
      "source": [
        "Now let's see the *if...else** statements. \n",
        "\n",
        "The first *if...else* compare if `statement1` and `statement2` are different, which is True. So we enter this conditional block and we here faced with the second `if...else` statement. \n",
        "\n",
        "Now the condition is `statement1`. Remember that *if* works with boolean, and the two variables `statement1` and `statement2` are booleans. Here the condition is met because `statement1` is True. So we do not need to look at the *else* block and **print('I love maths')** will be executed."
      ]
    },
    {
      "cell_type": "code",
      "metadata": {
        "id": "uD1-aoCfGIQm",
        "colab": {
          "base_uri": "https://localhost:8080/"
        },
        "outputId": "e0a730fb-bb55-4914-85fa-72afec4ff55c"
      },
      "source": [
        "var1 = True\n",
        "var2 = False\n",
        "x = 10\n",
        "y = '15'\n",
        "\n",
        "statement1 = not ((not var1) and var2) or var2\n",
        "statement2 = x != 10 or type(y) == int and x == 10\n",
        "\n",
        "if statement1 != statement2:\n",
        "  if statement1:\n",
        "    print('I love maths')\n",
        "  else:\n",
        "    print('I love physics')\n",
        "else:\n",
        "  print('I love Python')"
      ],
      "execution_count": null,
      "outputs": [
        {
          "output_type": "stream",
          "name": "stdout",
          "text": [
            "I love maths\n"
          ]
        }
      ]
    },
    {
      "cell_type": "markdown",
      "metadata": {
        "id": "I5HhaJ2CGV5f"
      },
      "source": [
        "\n",
        "---\n",
        "#### **Exercise 14**\n",
        "\n",
        "**From the following list of booleans, check if there's at least one true element and print its index**\n",
        "\n",
        "```\n",
        "[False, False, True, False, False, False]\n",
        "```\n",
        "\n",
        "**Hint**: You should take a look at the `any` or `all` functions documentation."
      ]
    },
    {
      "cell_type": "code",
      "metadata": {
        "colab": {
          "base_uri": "https://localhost:8080/"
        },
        "id": "GLt1MDfD5pWY",
        "outputId": "005cc308-87b2-4f80-8107-c702ae632935"
      },
      "source": [
        "help(any)"
      ],
      "execution_count": null,
      "outputs": [
        {
          "output_type": "stream",
          "name": "stdout",
          "text": [
            "Help on built-in function any in module builtins:\n",
            "\n",
            "any(iterable, /)\n",
            "    Return True if bool(x) is True for any x in the iterable.\n",
            "    \n",
            "    If the iterable is empty, return False.\n",
            "\n"
          ]
        }
      ]
    },
    {
      "cell_type": "code",
      "metadata": {
        "colab": {
          "base_uri": "https://localhost:8080/"
        },
        "id": "oH0L0ec45q6I",
        "outputId": "bcdaaed1-6753-4393-a898-9e6daebd2d06"
      },
      "source": [
        "help(all)"
      ],
      "execution_count": null,
      "outputs": [
        {
          "output_type": "stream",
          "name": "stdout",
          "text": [
            "Help on built-in function all in module builtins:\n",
            "\n",
            "all(iterable, /)\n",
            "    Return True if bool(x) is True for all values x in the iterable.\n",
            "    \n",
            "    If the iterable is empty, return True.\n",
            "\n"
          ]
        }
      ]
    },
    {
      "cell_type": "markdown",
      "metadata": {
        "id": "fxGXYnDBGzBv"
      },
      "source": [
        "#### **Correction**"
      ]
    },
    {
      "cell_type": "markdown",
      "metadata": {
        "id": "7ZdV0GRBG1Qf"
      },
      "source": [
        "For a given iterable, `any()` will check if there is at least ONE True element, if it's the case, it will returns True, if not then it will returns False. `all()` will checks if ALL the elements of the iterable are True, if so, it returns True, otherwise, it returns False."
      ]
    },
    {
      "cell_type": "code",
      "metadata": {
        "id": "fJkvoca3HI2I"
      },
      "source": [
        "help(all)"
      ],
      "execution_count": null,
      "outputs": []
    },
    {
      "cell_type": "code",
      "metadata": {
        "id": "vcFOPnNoHLDY"
      },
      "source": [
        "help(any)"
      ],
      "execution_count": null,
      "outputs": []
    },
    {
      "cell_type": "code",
      "metadata": {
        "id": "PXQbsjV2GyEf",
        "colab": {
          "base_uri": "https://localhost:8080/"
        },
        "outputId": "0d756044-1b26-4480-a192-e7b9b595b766"
      },
      "source": [
        "list_bool = [False, False, True, False, False, False]\n",
        "if all(list_bool):\n",
        "  print(list_bool.index(True))\n",
        "else:\n",
        "  print('No True element')"
      ],
      "execution_count": null,
      "outputs": [
        {
          "output_type": "stream",
          "name": "stdout",
          "text": [
            "No True element\n"
          ]
        }
      ]
    },
    {
      "cell_type": "code",
      "metadata": {
        "colab": {
          "base_uri": "https://localhost:8080/"
        },
        "id": "C47TQYxA6qTv",
        "outputId": "92b3ca69-761f-4478-95e4-ce3462f073a3"
      },
      "source": [
        "all(list_bool)"
      ],
      "execution_count": null,
      "outputs": [
        {
          "output_type": "execute_result",
          "data": {
            "text/plain": [
              "False"
            ]
          },
          "metadata": {},
          "execution_count": 59
        }
      ]
    },
    {
      "cell_type": "markdown",
      "metadata": {
        "id": "m6MDMI5iAWyz"
      },
      "source": [
        "## **D) Functions**"
      ]
    },
    {
      "cell_type": "markdown",
      "metadata": {
        "id": "EdHzd_vXAXzq"
      },
      "source": [
        "#### **Exercise 15**\n",
        "**Write a Python function `sum_list` that takes a list as an argument and returns the sum of the element of the list**\n"
      ]
    },
    {
      "cell_type": "code",
      "metadata": {
        "colab": {
          "base_uri": "https://localhost:8080/"
        },
        "id": "jtb1dIlyAsqM",
        "outputId": "5ea4cff0-18ff-410f-d09d-ed5ed3228b67"
      },
      "source": [
        "def sum_list(my_list):\n",
        "  return sum(my_list)\n",
        "\n",
        "sum_list([15, 5, 2])"
      ],
      "execution_count": null,
      "outputs": [
        {
          "output_type": "execute_result",
          "data": {
            "text/plain": [
              "22"
            ]
          },
          "metadata": {},
          "execution_count": 63
        }
      ]
    },
    {
      "cell_type": "markdown",
      "metadata": {
        "id": "sEVAmaqeAYrb"
      },
      "source": [
        "#### **Exercice 16**\n",
        "**Write a Python function `my_mean_function` that takes a list as an argument and returns the mean of the elements of the list. You have to use the result of the previous function**"
      ]
    },
    {
      "cell_type": "code",
      "metadata": {
        "colab": {
          "base_uri": "https://localhost:8080/"
        },
        "id": "6Rq3GvNrBPP0",
        "outputId": "f601f71e-77a0-46a4-ee62-704c35f12333"
      },
      "source": [
        "def my_mean_function(my_list):\n",
        "  return sum_list(my_list)/len(my_list)\n",
        "\n",
        "my_mean_function([15, 5, 8, 6, 7])"
      ],
      "execution_count": null,
      "outputs": [
        {
          "output_type": "execute_result",
          "data": {
            "text/plain": [
              "8.2"
            ]
          },
          "metadata": {},
          "execution_count": 64
        }
      ]
    },
    {
      "cell_type": "markdown",
      "metadata": {
        "id": "4eJu4m_WDZyE"
      },
      "source": [
        "#### **Exercise 17**\n",
        "**Write a Python function `greater_function` that takes two arguments, two integer, and returns the one with the maximum number of digits. If they are of equal lengths, print a message.**\n",
        "\n",
        "**Input:** int1 = 23655, int2 = 5583\n",
        "**Expected output:** 23655"
      ]
    },
    {
      "cell_type": "code",
      "metadata": {
        "colab": {
          "base_uri": "https://localhost:8080/"
        },
        "id": "5NCG9HY3DYyk",
        "outputId": "8bac0843-60c5-48c5-f4ea-d98bc9add087"
      },
      "source": [
        "def greater_function(int1, int2):\n",
        "  length1 = len(str(int1))\n",
        "  length2 = len(str(int2))\n",
        "  if length1 < length2:\n",
        "    return int2\n",
        "  elif length1 > length2:\n",
        "    return int1\n",
        "  else:\n",
        "    print(\"They are of equal lengths\")\n",
        "\n",
        "int1 = 23655\n",
        "int2 = 5583\n",
        "greater_function(int1, int2)"
      ],
      "execution_count": 2,
      "outputs": [
        {
          "output_type": "execute_result",
          "data": {
            "text/plain": [
              "23655"
            ]
          },
          "metadata": {},
          "execution_count": 2
        }
      ]
    },
    {
      "cell_type": "markdown",
      "metadata": {
        "id": "S90TzeHWGn-d"
      },
      "source": [
        "#### **Exercice 18**\n",
        "**Redo the previous exercise but with a undefined number of integers.**\n",
        "**Hint:** Use a `*args`"
      ]
    },
    {
      "cell_type": "code",
      "metadata": {
        "colab": {
          "base_uri": "https://localhost:8080/",
          "height": 36
        },
        "id": "NUzRyAKBGvcV",
        "outputId": "601858b7-2355-4798-a6ff-a25028b54196"
      },
      "source": [
        "def greater_function(*integers):\n",
        "  my_list = list()\n",
        "  for x in integers:\n",
        "    my_list.append(str(x))\n",
        "  maximum_number_of_digits = max(my_list, key = len)\n",
        "  return maximum_number_of_digits\n",
        "\n",
        "\n",
        "\n",
        "greater_function(8234, 5889, 623, 48712, 5965, 2, 12)\n"
      ],
      "execution_count": null,
      "outputs": [
        {
          "output_type": "execute_result",
          "data": {
            "application/vnd.google.colaboratory.intrinsic+json": {
              "type": "string"
            },
            "text/plain": [
              "'48712'"
            ]
          },
          "metadata": {},
          "execution_count": 73
        }
      ]
    },
    {
      "cell_type": "markdown",
      "metadata": {
        "id": "p4kh6H5CDYKU"
      },
      "source": [
        "**Exercise 19**\n",
        "\n",
        "**You received a dataset with personal information from patients, in order to keep them anonymous, each patient has a personal identifiant. But the identifiant has been wrongly recorded as integers. In order to do your analysis you need to transform each identifiant to a string with padded 0 at the begining of the string if necessary. To do so you have to, get the maximum length of the identifiant and padd the appropriate number of 0 to the string. Write a Python function that take a undefined number of integers as an argument and returns the list of corresponding identifier as a string.**\n",
        "\n",
        "**Input:** 623, 21, 4218, 114799, 18579  \n",
        "**Expected output:** ['000623', '000021', '004218', '114799', '018579']"
      ]
    },
    {
      "cell_type": "code",
      "metadata": {
        "colab": {
          "base_uri": "https://localhost:8080/"
        },
        "id": "UB41HveqN72_",
        "outputId": "87748e9f-c2e8-435a-9137-6e8d8ad8b37e"
      },
      "source": [
        "def create_id(*id_as_integers):\n",
        "  max_length = len(greater_function(*id_as_integers))\n",
        "  my_list = list()\n",
        "  for x in id_as_integers:\n",
        "    if len(str(x)) == max_length:\n",
        "      my_list.append(str(x))\n",
        "    else:\n",
        "      zero_to_be_added = (max_length - len(str(x)))\n",
        "      new_id = '0'*zero_to_be_added + str(x)\n",
        "      my_list.append(new_id)\n",
        "  return my_list\n",
        "\n",
        "create_id(623, 21, 4218, 114799, 1857)"
      ],
      "execution_count": null,
      "outputs": [
        {
          "output_type": "execute_result",
          "data": {
            "text/plain": [
              "['000623', '000021', '004218', '114799', '001857']"
            ]
          },
          "metadata": {},
          "execution_count": 68
        }
      ]
    },
    {
      "cell_type": "code",
      "metadata": {
        "colab": {
          "base_uri": "https://localhost:8080/"
        },
        "id": "SPKKguSOPFNK",
        "outputId": "e8bd9ed1-f740-485c-ae9f-dfad68104e72"
      },
      "source": [
        "max_length = len(greater_function(623, 21, 4218, 114799, 18579))\n",
        "my_list = list()\n",
        "\n",
        "id_as_integers = tuple((623, 21, 4218, 114799, 18579))\n",
        "for x in id_as_integers:\n",
        "  if len(str(x)) == max_length:\n",
        "    my_list.append(str(x))\n",
        "  else:\n",
        "    zero_to_be_added = max_length - len(str(x))\n",
        "    new_id = '0'*zero_to_be_added + str(x)\n",
        "    my_list.append(new_id)\n",
        "my_list\n"
      ],
      "execution_count": null,
      "outputs": [
        {
          "output_type": "execute_result",
          "data": {
            "text/plain": [
              "['000623', '000021', '004218', '114799', '018579']"
            ]
          },
          "metadata": {},
          "execution_count": 85
        }
      ]
    },
    {
      "cell_type": "markdown",
      "metadata": {
        "id": "dHEloVerN6Rn"
      },
      "source": [
        ""
      ]
    },
    {
      "cell_type": "markdown",
      "metadata": {
        "id": "5eyw1-9HHsBi"
      },
      "source": [
        "## **C) Loops**\n"
      ]
    },
    {
      "cell_type": "markdown",
      "metadata": {
        "id": "tPbedxO0HvRx"
      },
      "source": [
        "---\n",
        "### **_for_ loops**\n",
        "---"
      ]
    },
    {
      "cell_type": "markdown",
      "metadata": {
        "id": "pa0zu-cgMZWA"
      },
      "source": [
        "#### **Exercise 20**\n",
        "\n",
        "**From the following list of numbers, print the cummulative sum of the numbers and stop when the sum is greater than 100.**\n",
        "\n",
        "```\n",
        "Numbers = [18, 15, 2, 35, 8, 78, 10, 12, 33]\n",
        "```\n",
        "\n"
      ]
    },
    {
      "cell_type": "markdown",
      "metadata": {
        "id": "fq5iu4JxMkRZ"
      },
      "source": [
        "#### **Correction**\n",
        "\n"
      ]
    },
    {
      "cell_type": "markdown",
      "metadata": {
        "id": "-OqQNyhpMxII"
      },
      "source": [
        "We use a _for_ loops associated with a *if...else* statement and a *break* function"
      ]
    },
    {
      "cell_type": "code",
      "metadata": {
        "id": "Lf06n_2QHpeA",
        "colab": {
          "base_uri": "https://localhost:8080/"
        },
        "outputId": "deb206eb-f385-4aa3-e6fe-84e3848775df"
      },
      "source": [
        "Numbers = [18, 15, 2, 35, 8, 78, 10, 12, 33]\n",
        "cumulative_sum = 0\n",
        "for number in Numbers:\n",
        "  if cumulative_sum < 100:\n",
        "    cumulative_sum = cumulative_sum + number\n",
        "    print(cumulative_sum)\n",
        "  else:\n",
        "    break\n",
        "\n",
        "print(\"The cumulative sum is %i\" % cumulative_sum)"
      ],
      "execution_count": null,
      "outputs": [
        {
          "output_type": "stream",
          "name": "stdout",
          "text": [
            "18\n",
            "33\n",
            "35\n",
            "70\n",
            "78\n",
            "156\n",
            "The cumulative sum is 156\n"
          ]
        }
      ]
    },
    {
      "cell_type": "markdown",
      "metadata": {
        "id": "B1d-NlRNNWNL"
      },
      "source": [
        "---\n",
        "#### **Exercise 21**\n",
        "\n",
        "**Ask to the user a name in a string, then display the index of each letter in the alphabet, with a *for* loop.**\n",
        "\n",
        "**Hint:** Take a look at the `string` library and the ascii method."
      ]
    },
    {
      "cell_type": "markdown",
      "metadata": {
        "id": "URQeMsxmNk36"
      },
      "source": [
        "#### **Correction**"
      ]
    },
    {
      "cell_type": "markdown",
      "metadata": {
        "id": "W-i75WioNm2i"
      },
      "source": [
        "The `string` library includes some useful methods like `string.punctuation` which is a string of ASCII characters which are considered punctuation characters. \n",
        "[documentation on string library](https://docs.python.org/3/library/string.html)\n",
        "\n",
        "Here we are interested in the `string.ascii_lowercase` method which is an ordered string of lowercase letters of the alphabet. \n",
        "\n",
        "For this exercise, we ask the user a name, cast it into a string and lower every letter of the name.\n",
        "\n",
        "We use `string.ascii_lowercase` in order to have every letter of the alphabet. \n",
        "\n",
        "Then we loop over the letters of the string containing the name. We print the index of this letter with the `index` method.\n",
        "\n",
        "**Warning**: The indexes start at 0 (i.e. the index of the letter 'a' is 0) so you need to add one to the output of `index` method."
      ]
    },
    {
      "cell_type": "code",
      "metadata": {
        "id": "ZO_eui-gMwsQ",
        "colab": {
          "base_uri": "https://localhost:8080/"
        },
        "outputId": "f7feed9e-fb25-4b13-8251-0ec118449bb7"
      },
      "source": [
        "import string\n",
        "\n",
        "# We cast the user's input into a string\n",
        "name = str(input('Enter a name: ')).replace(' ','').translate(str.maketrans(\"\",\"\", string.punctuation))\n",
        "letters = string.ascii_lowercase\n",
        "\n",
        "for letter in name:\n",
        "  print(\"The letter %s is the %i letter of the alphabet.\" % (letter, letters.index(letter.lower())+1))"
      ],
      "execution_count": null,
      "outputs": [
        {
          "output_type": "stream",
          "name": "stdout",
          "text": [
            "Enter a name: Jean-paul\n",
            "The letter J is the 10 letter of the alphabet.\n",
            "The letter e is the 5 letter of the alphabet.\n",
            "The letter a is the 1 letter of the alphabet.\n",
            "The letter n is the 14 letter of the alphabet.\n",
            "The letter p is the 16 letter of the alphabet.\n",
            "The letter a is the 1 letter of the alphabet.\n",
            "The letter u is the 21 letter of the alphabet.\n",
            "The letter l is the 12 letter of the alphabet.\n"
          ]
        }
      ]
    },
    {
      "cell_type": "markdown",
      "metadata": {
        "id": "BsO2u8VoUGPc"
      },
      "source": [
        "\n",
        "---\n",
        "#### **Exercise 22 - Prime numbers**\n",
        "\n",
        "**Display all the prime numbers between 1 to 100 using loops.**\n",
        "\n",
        "**Note:** A prime number is a natural number greater than 1 that is not a product of two smaller natural number. For instance 5 is a prime number because it can only be written as $1 \\times 5$ or $5 \\times 1$. However 4 is not a prime number because it can be written as $2 \\times 2$.\n",
        "\n",
        "One way to check if a natural number $k$ is a prime number is by checking if $k$ can be divided by a number $k'$ which verified $1 < k' < k$."
      ]
    },
    {
      "cell_type": "markdown",
      "metadata": {
        "id": "KWn7MaZPV_zo"
      },
      "source": [
        "\n",
        "#### **Correction**"
      ]
    },
    {
      "cell_type": "markdown",
      "metadata": {
        "id": "lreSDfMJYQ_D"
      },
      "source": [
        "For this exercise we use a nested loop, a first *for* loop to range from 1 to 100 and a second *for* loop to check if there is a natural number can divide the iterator of the first *for* loop.  "
      ]
    },
    {
      "cell_type": "code",
      "metadata": {
        "id": "T1otWc9MV_SY"
      },
      "source": [
        "for i in range(1, 101):\n",
        "  if i > 1:\n",
        "    for j in range(2, i):\n",
        "      if i % j == 0:\n",
        "        break\n",
        "    else:\n",
        "      print(i, \"is a prime number\")"
      ],
      "execution_count": null,
      "outputs": []
    },
    {
      "cell_type": "markdown",
      "metadata": {
        "id": "JSPByr1VbsQS"
      },
      "source": [
        "\n",
        "---\n",
        "### **_while_ loop**\n",
        "---"
      ]
    },
    {
      "cell_type": "markdown",
      "metadata": {
        "id": "5lNOePoCZxVz"
      },
      "source": [
        "#### **Exercise 23**\n",
        "\n",
        "**Complete the following program to guess a number between 1 to 9. You must display a message when the user guessed the right integer.**\n",
        "\n",
        "\n",
        "\n",
        "```\n",
        "import random\n",
        "integer_to_be_guessed = random.randint(1, 10)\n",
        "\n",
        "#######################\n",
        "\n",
        "# to be completed\n",
        "\n",
        "#######################\n",
        "```\n",
        "\n",
        "**Note:** From the `random` library, we use the *randint* function to assign a random integer (between 1 and 9) to a variable. You have to write a loop which will ask the user to input an integer until that integer is the one randomly generated. \n",
        "\n"
      ]
    },
    {
      "cell_type": "markdown",
      "metadata": {
        "id": "p-Ia_gxNbMRx"
      },
      "source": [
        "#### **Correction**"
      ]
    },
    {
      "cell_type": "code",
      "metadata": {
        "id": "kBCLGWchbSm6"
      },
      "source": [
        "import random\n",
        "integer_to_be_guessed = random.randint(1, 10)\n",
        "\n",
        "guessed = False\n",
        "integer_choose = 0\n",
        "\n",
        "while not guessed:\n",
        "  integer_choose = int(input(\"Give a number between 1 and 9: \"))\n",
        "  if integer_choose == integer_to_be_guessed:\n",
        "    guessed = True\n",
        "    print('Well done! you guessed the right number %i !' % integer_to_be_guessed)"
      ],
      "execution_count": null,
      "outputs": []
    },
    {
      "cell_type": "markdown",
      "metadata": {
        "id": "TfUABJvOb6Kx"
      },
      "source": [
        "---\n",
        "#### **Exercise 24**\n",
        "\n",
        "**Write a program which will compute the Fibonnaci sequence until the user want it to stop. Do a second program that will calculater a given number _n_ of the Fibonnaci sequence values.**  \n",
        "**Hint:** You have to write a loop that will take into account if the user want to stop or not at each iteration.   \n",
        "**Note:** The Fibonnaci sequence, is a sequence noted $F_n$ such as each number, in the sequence, is the sum of the two preceding ones, starting from 0 and 1.\n",
        "The mathematic formulation of the sequence is:\n",
        "\n",
        "$$\n",
        "F_0 = 0, F_1 = 1 \\text{ and } F_n = F_{n-1} + F_{n-2}, \\forall n > 1.\n",
        "$$\n",
        "\n",
        "Here is the first elements of this sequence:\n",
        "\n",
        "$F_0 = 0, F_1 = 1, F_2 = 1, F_3 = 2, F_4 = 5, F_5 = 8, F_6 = 13$\n"
      ]
    },
    {
      "cell_type": "markdown",
      "metadata": {
        "id": "Sx8RA_f8dqTh"
      },
      "source": [
        "#### **Correction**"
      ]
    },
    {
      "cell_type": "markdown",
      "metadata": {
        "id": "MbJfHgwmeGus"
      },
      "source": [
        "To do this exercise, we initialize a boolean variable `stop` to False, and the 2 first elements of the the Fibonnaci sequence in a list.\n",
        "\n",
        "Then we initialize an iterator *i* at 2. And we start the *while* loop. \n",
        "\n",
        "The loop will start and we compute the new value of the Fibonnaci sequence using the 2 preceding ones. Then we ask to the user if he wants to continue and assign the value in the boolean variable `stop`. \n",
        "\n",
        "Then we use a *if...else* statement to update the value of `stop` if the user want to continue *stop* will take the value True, if the user want to stop, the variable will take the value False. \n",
        "\n",
        "The *while* loop condition will be not stop. If the user want to stop, `stop = True` then `not stop = False` and the loop stops. "
      ]
    },
    {
      "cell_type": "code",
      "metadata": {
        "id": "i7zeQm89dzNf"
      },
      "source": [
        "stop = False\n",
        "Fibonnaci = [0,1]\n",
        "\n",
        "i = 2\n",
        "while not stop:\n",
        "  Fibonnaci.append(Fibonnaci[i-1] + Fibonnaci[i-2])\n",
        "  print(Fibonnaci)\n",
        "  stop = input('Should we continue ? (Yes or No)  ')\n",
        "  if stop == \"No\":\n",
        "    stop = True\n",
        "    print('Ok, we stop.')\n",
        "  else:\n",
        "    stop = False\n",
        "    \n",
        "  i += 1"
      ],
      "execution_count": null,
      "outputs": []
    },
    {
      "cell_type": "markdown",
      "metadata": {
        "id": "0W8PplPpfWuO"
      },
      "source": [
        "The second program does not require a *while* loops, we just need to get the value entered by the user and use it into a *for* loop."
      ]
    },
    {
      "cell_type": "code",
      "metadata": {
        "id": "kmvln8F3fqPI"
      },
      "source": [
        "n = int(input(\"Value of n ? \"))\n",
        "Fibonnaci = [0, 1]\n",
        "\n",
        "for i in range(2, n+1):\n",
        "  Fibonnaci.append(Fibonnaci[i-1] + Fibonnaci[i-2])\n",
        "else:\n",
        "  print(Fibonnaci[n])"
      ],
      "execution_count": null,
      "outputs": []
    },
    {
      "cell_type": "markdown",
      "metadata": {
        "id": "IQ5A8IBGgC6t"
      },
      "source": [
        "---\n",
        "#### **Exercise 25**\n",
        "\n",
        "**Redo Exercise 10 but with a for loop**\n",
        "\n",
        "The sequence of letters was 'AlksErRoVpeWdsSaFsdCfafkpweRKddAPoSRCPsO' and you had to print the letter with the most occurences."
      ]
    },
    {
      "cell_type": "markdown",
      "metadata": {
        "id": "ptcAy9NIgTvu"
      },
      "source": [
        "#### **Correction**"
      ]
    },
    {
      "cell_type": "code",
      "metadata": {
        "id": "j-3Ki3o_gdVY"
      },
      "source": [
        "s = 'AlksErRoVpeWdsSaFsdCfafkpweRKddAPoSRCPsO'\n",
        "s = s.lower()\n",
        "keys = set(s)\n",
        "my_dict = {}\n",
        "\n",
        "for key in keys:\n",
        "  my_dict[key] = s.count(key)\n",
        "\n",
        "max_letter = max(my_dict, key = my_dict.get)\n",
        "print(\"The letter with the most occurences is %s which appears %i times in the string\" % (max_letter, my_dict.get(max_letter)))"
      ],
      "execution_count": null,
      "outputs": []
    },
    {
      "cell_type": "markdown",
      "metadata": {
        "id": "WZVrzcQCgWq2"
      },
      "source": [
        "---\n",
        "## **D) Comprehensions**\n",
        "---"
      ]
    },
    {
      "cell_type": "markdown",
      "metadata": {
        "id": "5HBaMMSGhNn2"
      },
      "source": [
        "### **List comprehensions**\n",
        "---"
      ]
    },
    {
      "cell_type": "markdown",
      "metadata": {
        "id": "h1o2J3A0hRau"
      },
      "source": [
        "#### **Exercise 26**\n",
        "\n",
        "**Create a list with comprehension that give the lengths of every word in the following sentence**\n",
        "\n",
        "**Sentence:** \"All animals are equal but some animals are more equal than others.\" (Quotes from Animal Farm - ORWELL, GEORGE)."
      ]
    },
    {
      "cell_type": "markdown",
      "metadata": {
        "id": "Omv334Q_qTW2"
      },
      "source": [
        "\n",
        "#### **Correction**"
      ]
    },
    {
      "cell_type": "code",
      "metadata": {
        "id": "Cvk2suauhQ5n"
      },
      "source": [
        "quotes = \"All animals are equal but some animals are more equal than others\"\n",
        "words = quotes.split()\n",
        "\n",
        "words_length = [len(word) for word in words]\n",
        "words_and_length = [(word, len(word)) for word in words]\n",
        "\n",
        "print(words_and_length)"
      ],
      "execution_count": null,
      "outputs": []
    },
    {
      "cell_type": "markdown",
      "metadata": {
        "id": "zHLb0koYqrI2"
      },
      "source": [
        "---\n",
        "#### **Exercise 27**\n",
        "**From the following list, returns a new list with only the positive numbers as integers.**\n",
        "\n",
        "\n",
        "```\n",
        "numbers = [-2.2, 3.2, 1.8, -1.23, 0.3, -0.1, 7.6]\n",
        "```\n",
        "\n"
      ]
    },
    {
      "cell_type": "markdown",
      "metadata": {
        "id": "Kh5hqphWq8qO"
      },
      "source": [
        "#### **Correction**"
      ]
    },
    {
      "cell_type": "code",
      "metadata": {
        "id": "TMPoHfairBKu"
      },
      "source": [
        "numbers = [-2.2, 3.2, 1.8, -1.23, 0.3, -0.1, 7.6]\n",
        "newlist = [int(x) for x in numbers if x > 0]\n",
        "print(newlist)"
      ],
      "execution_count": null,
      "outputs": []
    },
    {
      "cell_type": "markdown",
      "metadata": {
        "id": "wnt180FWrAbm"
      },
      "source": [
        "---\n",
        "#### **Exercise 28**\n",
        "**Count the number of spaces in the following sentence, using comprehension.**  \n",
        "**Sentence:** \"Estimation of survivals distributions are commonly obtained using the Kaplan-Meier estimator.\""
      ]
    },
    {
      "cell_type": "markdown",
      "metadata": {
        "id": "Up-wj6MvriGo"
      },
      "source": [
        "#### **Correction**"
      ]
    },
    {
      "cell_type": "code",
      "metadata": {
        "id": "MbTQTdm8rlTf"
      },
      "source": [
        "sentence = \"Estimation of survivals distributions are commonly obtained using the Kaplan-Meier estimator.\"\n",
        "print(\"There's %i white spaces in the sentence\" % len([x for x in sentence if x == \" \"]))"
      ],
      "execution_count": null,
      "outputs": []
    },
    {
      "cell_type": "markdown",
      "metadata": {
        "id": "DUR_UBtnr2S4"
      },
      "source": [
        "\n",
        "---\n",
        "#### **Exercise 29**\n",
        "**Create a new string by removing all the vowels in the previous sentence**"
      ]
    },
    {
      "cell_type": "markdown",
      "metadata": {
        "id": "BoAbUJBnsAN4"
      },
      "source": [
        "\n",
        "#### **Correction**"
      ]
    },
    {
      "cell_type": "code",
      "metadata": {
        "id": "FA2a2EKXsDeh"
      },
      "source": [
        "sentence = \"Estimation of survivals distributions are commonly obtained using the Kaplan-Meier estimator.\"\n",
        "new_sentence = \"\".join([char for char in sentence if char not in ['a','e','i','o','u','y']])\n",
        "print(new_sentence)"
      ],
      "execution_count": null,
      "outputs": []
    },
    {
      "cell_type": "markdown",
      "metadata": {
        "id": "5vISgPKHsgSJ"
      },
      "source": [
        "---\n",
        "#### **Exercise 30**\n",
        "**Create a list of prime numbers between 2 and 100 with nested list comprehension.**"
      ]
    },
    {
      "cell_type": "markdown",
      "metadata": {
        "id": "dmUZBZ0hs7C0"
      },
      "source": [
        "\n",
        "#### **Correction**"
      ]
    },
    {
      "cell_type": "code",
      "metadata": {
        "id": "4bo_65V3s6QV"
      },
      "source": [
        "prime_numbers = [x for x in range(2, 100) if True not in [True for divisor in range (2, x) if x % divisor == 0]]\n",
        "prime_numbers"
      ],
      "execution_count": null,
      "outputs": []
    },
    {
      "cell_type": "markdown",
      "metadata": {
        "id": "FSkJVkAvtbeF"
      },
      "source": [
        "---\n",
        "### **Dictionary comprehensions**\n",
        "---"
      ]
    },
    {
      "cell_type": "markdown",
      "metadata": {
        "id": "uH_4Bw-etgy7"
      },
      "source": [
        "#### **Exercise 31**\n",
        "**In the following dictionary, there's 5 different temperature measurements. The key is the time of measurement and the value is temperature in Fahrenheit. You have to convert the temperature in Celsius units, using comprehensions.**  \n",
        "\n",
        "**Print the temperature at the 4th time measurement in °F and in °C units**\n",
        "\n",
        "```\n",
        "dictionary = {\"t1\": 50, \"t2\":85, \"t3\":32, \"t4\":43, \"t5\":229}\n",
        "```\n",
        "\n",
        "**Note:** The conversion from Fahrenheit to Celsius units is done with this formula:\n",
        "$$\n",
        "C = \\frac{5}{9}\\times(F - 32),\n",
        "$$\n",
        "With $F$ being the temperature in Fahrenheit units.  \n",
        "**Example**: $10°F = -12.2°C$\n",
        "\n",
        "$$\n",
        "\\frac{5}{9}(10 - 32) = - \\frac{5\\times22}{9} = -\\frac{110}{9} = -12.2°C\n",
        "$$"
      ]
    },
    {
      "cell_type": "markdown",
      "metadata": {
        "id": "EfAiP6GKu5NM"
      },
      "source": [
        "\n",
        "\n",
        "#### **Correction**"
      ]
    },
    {
      "cell_type": "code",
      "metadata": {
        "id": "83VbZ6gagWG3"
      },
      "source": [
        "temperatures = {\"t1\":50, 't2':85, 't3':32, 't4':43, 't5':229}\n",
        "new_temperatures = {key:int((5/9)*(value - 32)) for (key, value) in temperatures.items()}\n",
        "\n",
        "print(\"At the fourth measurement time, the temperature was of %i°F or %i°C.\" % (temperatures.get('t4'), new_temperatures.get('t4')))"
      ],
      "execution_count": null,
      "outputs": []
    },
    {
      "cell_type": "markdown",
      "metadata": {
        "id": "WAIjegtPwOx-"
      },
      "source": [
        "---\n",
        "#### **Exercise 32**\n",
        "**From a random list of ages, you have to:**  \n",
        "**1. Create a new list with discrete values of ages. Created with a 10 years step as follows:**    \n",
        "**[0,10), [10,20), [20,30),...,[90,100).**  \n",
        "**2. Create a dictionary with each age category as a key and the number of occurences of this category as a value.**  \n",
        "**3.Print the category with the most occurences and the one with the fewest occurences.**\n",
        "**You can only use comprehensions, except for the 3rd task**\n",
        "\n",
        "**Hint:** Use *random.randint()* in order to create ages from 1 to 99 (not included)\n"
      ]
    },
    {
      "cell_type": "markdown",
      "metadata": {
        "id": "zmAEcV-uxPqQ"
      },
      "source": [
        "#### **Correction**"
      ]
    },
    {
      "cell_type": "code",
      "metadata": {
        "id": "W2vAAv5vxR8o"
      },
      "source": [
        "import random \n",
        "\n",
        "# We generate the ages list\n",
        "age_num = [random.randint(1, 99) for i in range(100)]\n",
        "\n",
        "# We create the discrete values of ages.\n",
        "keys = [''.join(['[', str(i), ',', str(i+10), ')']) for i in range(0, 100, 10)]\n",
        "age_cat = [keys[i//10] for i in age_num]\n",
        "\n",
        "# We create the dictionary with keys and the number of occurrences as values.\n",
        "dict_age = {key:age_cat.count(key) for key in age_cat}\n",
        "\n",
        "# From the dictionary we extract which category as the most and the less occurrences\n",
        "max_cat = max(dict_age, key = dict_age.get)\n",
        "min_cat = min(dict_age, key = dict_age.get)\n",
        "\n",
        "print(\"The category with the most occurencies is %s with %i occurences.\" % (max_cat, dict_age.get(max_cat)))\n",
        "print(\"The category with the less occurencies is %s with %i occurences.\" % (min_cat, dict_age.get(min_cat)))"
      ],
      "execution_count": null,
      "outputs": []
    },
    {
      "cell_type": "markdown",
      "metadata": {
        "id": "kIO1_FifyNzj"
      },
      "source": [
        "Here we created *keys* with a comprehension and a *join* method. *join* is a string method that insert elements of the left part of the join between elements of the right part of the join. \n",
        "\n",
        "Here the right part is \n",
        "\n",
        "\n",
        "```[ '[' , str(i) , ',' , str(i+10) , ')' ]``` it creates a list similar to [ '[' , i , ',' , i+10 ,')'] with i going from 0 to 100 by a step of 10. \n",
        "\n",
        "The left part of the *join* is a trick. By using the **\"\"** we insert nothing between the elements of the right part. It simply paste the elements of the righ part. So the result would be something like '[i,i+10)' with i going from 0 to 100. "
      ]
    },
    {
      "cell_type": "markdown",
      "metadata": {
        "id": "33i_SU800vj1"
      },
      "source": [
        "*age_cat* is calculated with a comprehension. We created the list of age category, from 0 to 100 with a 10 step. So we could safely says that the element indexed 0 of the *keys* list is the category of ages under 10.\n",
        "\n",
        "keys[0] = [0, 10) : everyone one under 10 years old.  \n",
        "keys[1] = [10, 20) : people between 10 and 19 years old.  \n",
        "keys[2] = [20, 30) : people between 20 and 29 years old.  \n",
        "\n",
        "keys[8] = [80, 90) : people between 80 and 89 years.  \n",
        "keys[9] = [90, 100) : people between 90 and 99 years.  \n",
        "\n",
        "As you can see, the index of the *keys* list is the tens of the age category. So we can use an euclidean division and use the quotient as an index. *//* give the quotien of the euclidean division.\n",
        "\n",
        "**Example:** Let's say we want to categorised 15 years. It obviously goes to the category [10, 20). \n",
        "We have $15 =  10 \\times 1 + 5$ the quotient is $1$ and *keys[1]* is [10, 20)."
      ]
    },
    {
      "cell_type": "code",
      "metadata": {
        "id": "8m1zMGJA4uZe"
      },
      "source": [
        ""
      ],
      "execution_count": null,
      "outputs": []
    },
    {
      "cell_type": "markdown",
      "metadata": {
        "id": "-fDvPNl0NnxN"
      },
      "source": [
        "**Some links**\n",
        "\n",
        "[Python Documentation](https://docs.python.org/3/library/index.html)"
      ]
    }
  ]
}