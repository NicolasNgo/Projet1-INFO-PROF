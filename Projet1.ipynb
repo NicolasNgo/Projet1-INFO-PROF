{
  "nbformat": 4,
  "nbformat_minor": 0,
  "metadata": {
    "colab": {
      "name": "Projet1.ipynb",
      "provenance": [],
      "collapsed_sections": [],
      "authorship_tag": "ABX9TyM9LkgfXuA8c+oi0g9/+xZW",
      "include_colab_link": true
    },
    "kernelspec": {
      "name": "python3",
      "display_name": "Python 3"
    },
    "language_info": {
      "name": "python"
    }
  },
  "cells": [
    {
      "cell_type": "markdown",
      "metadata": {
        "id": "view-in-github",
        "colab_type": "text"
      },
      "source": [
        "<a href=\"https://colab.research.google.com/github/NicolasNgo/Projet1-INFO-PROF/blob/main/Projet1.ipynb\" target=\"_parent\"><img src=\"https://colab.research.google.com/assets/colab-badge.svg\" alt=\"Open In Colab\"/></a>"
      ]
    },
    {
      "cell_type": "markdown",
      "metadata": {
        "id": "IONqVyVRptD7"
      },
      "source": [
        "# **Project 1**\n",
        "\n",
        "## **Context**\n",
        "\n",
        "The kidneys are responsable for removing wastes, toxins and extra water from the body; balancing important salts and minerals in the blood, such as calcium, sodium and potassium; and releasing hormones to help control blood pressure, make red blood cells and keep your bones strong. The waste and extra water removed by the kidneys become urine. \n",
        "\n",
        "When the kidneys are damaged, they can't filter blood as they should. The result can be a build-up of wastes in your body, as well as other problems that can harm your health. **Chronic kidney disease (CKD)** is a type of kidney disease in which there is a gradual loss of kidney function over a period of monthrs or years. It often can get worse over time and may lead to kidney failure. If your kidneys fail, you will deen dialysis or kidney tranplant to maintain your health. \n",
        "\n",
        "Diabetes and high blood pressure are the most common causes of kidney disease. It's a common condition often associated with getting older. Usually in the early stages, there is no symptoms of CKD, but it may be detected with a blood and/or urine test. The tests look for high level of certain substances in your blood and urine that are signs your kidneys aren't working properly. For instance, we look for high level of albumin, which is a protein found in the blood. A healthy kidney doesn't let albumin pass into the urine. \n",
        "\n",
        "The data are blood tests and other measures from patients with and without CKD. There are 400 rows, one per patient; these are patients seen over a period of about two months at some point before July 2015 in a hospital in India. \n",
        "\n",
        "The `classification` column is the one to predict with `ckd` if the patient was diagnosed with CKD and `notckd` if not. A full dictionary is presented below:\n",
        "\n",
        "Link to the dataset: \n",
        "[https://raw.githubusercontent.com/NicolasNgo/Projet1-INFO-PROF/main/kidney_disease.csv](https://raw.githubusercontent.com/NicolasNgo/Projet1-INFO-PROF/main/kidney_disease.csv)\n",
        "\n",
        "**Dictionary:**\n",
        "\n",
        "* __id__: Identifiant of the patient __[Numerical]__\n",
        "* __age__: Age in years __[Numerical]__\n",
        "* __bp__: Blood Pressure in mm/Hg __[Numerical]__\n",
        "* __sg__: Urine specific gravity __[one of (1.005, 1.010, 1.015, 1.020, 1.025)]__\n",
        "* __al__: Albumin in urine. __[one of (0, 1, 2, 3, 4, 5)]__\n",
        "* __su__: Sugar in urine. __[one of (0, 1, 2, 3, 4, 5)]__\n",
        "* __rbc__: Red blood cells in urine. __[one of ('normal', 'abnormal')]__\n",
        "* __pc__: Pus cell in urine. __[one of ('present', 'notpresent')]__\n",
        "* __pcc__: Pus cell clumps in urine. __[one of ('present', 'notpresent')]__\n",
        "* __ba__: Bacteria in urine. __[one of ('present', 'notpresent')]__\n",
        "* __bgr__: Blood glucose random in mgs/dl __[Numerical]__\n",
        "* __bu__: Blood urea in mgs/dl __[Numerical]__\n",
        "* __sc__: Serum creatinine in mgs/dl __[Numerical]__\n",
        "* __sod__: Sodium in mEq/L __[Numerical]__\n",
        "* __pot__: Potassium in mEq/L __[Numerical]__\n",
        "* __hemo__: Hemoglobin in gms __[Numerical]__\n",
        "* __pcv__: Packed cell volume (volume percentage) __[Numerical]__\n",
        "* __wc__: White blood cell count in cells/cumm __[Numercial]__\n",
        "* __rc__: Red blood cell count in millions/cmm __[Numerical]__\n",
        "* __htn__: Hypertension. __[one of ('yes', 'no')]__\n",
        "* __dm__: Diabetes mellitus. __[one of ('yes', 'no')]__\n",
        "* __cad__: Coronary artery disease. __[one of ('yes', 'no')]__\n",
        "* __appet__: Appetite. __[one of ('good', 'poor')]__\n",
        "* __pe__: Pedal edema. __[one of ('yes', 'no')]__\n",
        "* __ane__: Anemia. __[one of ('yes', 'no')]__\n",
        "* __classification__: Chronic kidneys disease. __[one of ('ckd', 'notckd')]__.\n",
        "\n",
        "\n",
        "The objectif of this project is to clean the dataset in order to be able to use machine learning models to predict the `classification` column. You are expected to use Python and at least some functions/methods of the Pandas library, and returns a notebook with the codes and comments. \n",
        "You are expected to justify your choices and give readable comments at each step. Put at the end of the notebook a code cell with the cleaned dataset named `final_data_set`. \n",
        "\n",
        "### **Expected work**\n",
        "\n",
        "1. Importation of the data.\n",
        "2. General description of the dataset.\n",
        "3. Verification of the data (Misrecorded values, data types, aberant values).\n",
        "4. Management of the missing values. \n",
        "5. Descriptive statistics (at least Mean, Standard deviation, Mode, Value Counts).\n",
        "6. Transformation of categorical variables in quantitative ones.\n",
        "7. Feature visualisation. (Histogram, Pie Chart)\n",
        "\n",
        " "
      ]
    },
    {
      "cell_type": "markdown",
      "metadata": {
        "id": "5tgAV0hgtjHR"
      },
      "source": [
        "For this project you have to import correctly the dataset [1], give some information (number of rows, columns, number of quantitative and qualitative features)[2]. You will have to look closely for misrecorded values and check for abnormal values [3], some research is needed for some variables and you will have to decide and justify whether or not you consider some values as abnormals. For the management of the missing values, you don't need to do complex process, use what you learn during the courses [4]. \n",
        "\n",
        "You can ask your questions regarding this project on the forum. "
      ]
    },
    {
      "cell_type": "code",
      "metadata": {
        "id": "RSMRn4yLvp8T"
      },
      "source": [
        "## Project 1\n",
        "\n",
        "##"
      ],
      "execution_count": null,
      "outputs": []
    }
  ]
}