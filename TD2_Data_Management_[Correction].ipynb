{
  "nbformat": 4,
  "nbformat_minor": 0,
  "metadata": {
    "colab": {
      "name": "TD2 - Data Management [Correction].ipynb",
      "provenance": [],
      "collapsed_sections": [],
      "authorship_tag": "ABX9TyNyHjW9D1vDVb7TGntCCYpH",
      "include_colab_link": true
    },
    "kernelspec": {
      "display_name": "Python 3",
      "name": "python3"
    },
    "language_info": {
      "name": "python"
    }
  },
  "cells": [
    {
      "cell_type": "markdown",
      "metadata": {
        "id": "view-in-github",
        "colab_type": "text"
      },
      "source": [
        "<a href=\"https://colab.research.google.com/github/NicolasNgo/Projet1-INFO-PROF/blob/main/TD2_Data_Management_%5BCorrection%5D.ipynb\" target=\"_parent\"><img src=\"https://colab.research.google.com/assets/colab-badge.svg\" alt=\"Open In Colab\"/></a>"
      ]
    },
    {
      "cell_type": "markdown",
      "metadata": {
        "id": "3muPXjGFGOVt"
      },
      "source": [
        "# **TD 2 - Data management [Correction]**"
      ]
    },
    {
      "cell_type": "markdown",
      "metadata": {
        "id": "gOoIT4TJGcCN"
      },
      "source": [
        "## **A) DataFrame Manipulation**"
      ]
    },
    {
      "cell_type": "markdown",
      "metadata": {
        "id": "ISG2S0zQGg_N"
      },
      "source": [
        "### **Exercise 1 - Creation of DataFrame from a dictionary**\n",
        "**Write a Pandas program to create and display a DataFrame from the following dictionary.**\n",
        "\n",
        "* __Once created, use the name as an index for the DataFrame.__\n",
        "* __Display the measures of Pierre__\n",
        "* __Give the overall mean measurement__\n",
        "* __Give the mean measurement of each center__\n",
        "\n",
        "\n",
        "```\n",
        "dict1 = {\n",
        "  'Names':['Jean','Marie','Joseph','Marthe','Jacob','Marc','Paul','Pierre','Ismael','David','Mathieu'],\n",
        "  'Measures':[12.5,18.0, 10.0, 13.2, 3.2, 5.7, 12.0, 6.0, 7.0, 14.5, 17.6],\n",
        "  'Center':['1', '2', '2', '1', '2', '2', '1', '2', '1','2', '1']}\n",
        "\n",
        "```\n",
        "\n"
      ]
    },
    {
      "cell_type": "markdown",
      "metadata": {
        "id": "AQCK5eQ3Inzk"
      },
      "source": [
        "### **Correction**"
      ]
    },
    {
      "cell_type": "markdown",
      "metadata": {
        "id": "W2ygczCbK0a3"
      },
      "source": [
        "**To create a DataFrame with a dictionary, we just need to pass the dictionary to the pandas' function `DataFrame()`.**"
      ]
    },
    {
      "cell_type": "code",
      "metadata": {
        "id": "CtDCn2niF-u0"
      },
      "source": [
        "import pandas as pd\n",
        "dict1 = {\n",
        "    'Names':['Jean','Marie','Joseph','Marthe','Jacob','Marc','Paul','Pierre','Ismael','David','Mathieu'],\n",
        "    'Measures':[12.5,18.0, 10.0, 13.2, 3.2, 5.7, 12.0, 6.0, 7.0, 14.5, 17.6],\n",
        "    'Center':['1', '2', '2', '1', '2', '2', '1', '2', '1','2', '1']\n",
        "    }\n",
        "\n",
        "df = pd.DataFrame(dict1)\n"
      ],
      "execution_count": 1,
      "outputs": []
    },
    {
      "cell_type": "markdown",
      "metadata": {
        "id": "DnrjUHHCLCyn"
      },
      "source": [
        "We set the index with the `set_index` method."
      ]
    },
    {
      "cell_type": "code",
      "metadata": {
        "colab": {
          "base_uri": "https://localhost:8080/",
          "height": 421
        },
        "id": "4_NOugRkLLvA",
        "outputId": "74cd043a-96ce-4158-e587-19aec5b08726"
      },
      "source": [
        "df = df.set_index('Names')\n",
        "df"
      ],
      "execution_count": 2,
      "outputs": [
        {
          "output_type": "execute_result",
          "data": {
            "text/html": [
              "<div>\n",
              "<style scoped>\n",
              "    .dataframe tbody tr th:only-of-type {\n",
              "        vertical-align: middle;\n",
              "    }\n",
              "\n",
              "    .dataframe tbody tr th {\n",
              "        vertical-align: top;\n",
              "    }\n",
              "\n",
              "    .dataframe thead th {\n",
              "        text-align: right;\n",
              "    }\n",
              "</style>\n",
              "<table border=\"1\" class=\"dataframe\">\n",
              "  <thead>\n",
              "    <tr style=\"text-align: right;\">\n",
              "      <th></th>\n",
              "      <th>Measures</th>\n",
              "      <th>Center</th>\n",
              "    </tr>\n",
              "    <tr>\n",
              "      <th>Names</th>\n",
              "      <th></th>\n",
              "      <th></th>\n",
              "    </tr>\n",
              "  </thead>\n",
              "  <tbody>\n",
              "    <tr>\n",
              "      <th>Jean</th>\n",
              "      <td>12.5</td>\n",
              "      <td>1</td>\n",
              "    </tr>\n",
              "    <tr>\n",
              "      <th>Marie</th>\n",
              "      <td>18.0</td>\n",
              "      <td>2</td>\n",
              "    </tr>\n",
              "    <tr>\n",
              "      <th>Joseph</th>\n",
              "      <td>10.0</td>\n",
              "      <td>2</td>\n",
              "    </tr>\n",
              "    <tr>\n",
              "      <th>Marthe</th>\n",
              "      <td>13.2</td>\n",
              "      <td>1</td>\n",
              "    </tr>\n",
              "    <tr>\n",
              "      <th>Jacob</th>\n",
              "      <td>3.2</td>\n",
              "      <td>2</td>\n",
              "    </tr>\n",
              "    <tr>\n",
              "      <th>Marc</th>\n",
              "      <td>5.7</td>\n",
              "      <td>2</td>\n",
              "    </tr>\n",
              "    <tr>\n",
              "      <th>Paul</th>\n",
              "      <td>12.0</td>\n",
              "      <td>1</td>\n",
              "    </tr>\n",
              "    <tr>\n",
              "      <th>Pierre</th>\n",
              "      <td>6.0</td>\n",
              "      <td>2</td>\n",
              "    </tr>\n",
              "    <tr>\n",
              "      <th>Ismael</th>\n",
              "      <td>7.0</td>\n",
              "      <td>1</td>\n",
              "    </tr>\n",
              "    <tr>\n",
              "      <th>David</th>\n",
              "      <td>14.5</td>\n",
              "      <td>2</td>\n",
              "    </tr>\n",
              "    <tr>\n",
              "      <th>Mathieu</th>\n",
              "      <td>17.6</td>\n",
              "      <td>1</td>\n",
              "    </tr>\n",
              "  </tbody>\n",
              "</table>\n",
              "</div>"
            ],
            "text/plain": [
              "         Measures Center\n",
              "Names                   \n",
              "Jean         12.5      1\n",
              "Marie        18.0      2\n",
              "Joseph       10.0      2\n",
              "Marthe       13.2      1\n",
              "Jacob         3.2      2\n",
              "Marc          5.7      2\n",
              "Paul         12.0      1\n",
              "Pierre        6.0      2\n",
              "Ismael        7.0      1\n",
              "David        14.5      2\n",
              "Mathieu      17.6      1"
            ]
          },
          "metadata": {},
          "execution_count": 2
        }
      ]
    },
    {
      "cell_type": "markdown",
      "metadata": {
        "id": "NgBhaF-tLR4v"
      },
      "source": [
        "We use the `loc` method to select the row named/indexed 'Pierre'."
      ]
    },
    {
      "cell_type": "code",
      "metadata": {
        "colab": {
          "base_uri": "https://localhost:8080/"
        },
        "id": "DZWBv1VnLZKB",
        "outputId": "07d6c08b-1597-471f-d01f-91f41d122003"
      },
      "source": [
        "print('Pierre has a measurement of %.2f.' % df.loc['Pierre'].Measures)"
      ],
      "execution_count": 3,
      "outputs": [
        {
          "output_type": "stream",
          "name": "stdout",
          "text": [
            "Pierre has a measurement of 6.00.\n"
          ]
        }
      ]
    },
    {
      "cell_type": "markdown",
      "metadata": {
        "id": "O4obW2uDLj8w"
      },
      "source": [
        "We use the `mean` method to display the mean value of the Measures column."
      ]
    },
    {
      "cell_type": "code",
      "metadata": {
        "colab": {
          "base_uri": "https://localhost:8080/"
        },
        "id": "eXDDcd3MLtzA",
        "outputId": "ccdcd291-8b03-4a96-a718-d7f356eb3edb"
      },
      "source": [
        "print('Patients have a mean measures of %.1f.'% df.Measures.mean())"
      ],
      "execution_count": 4,
      "outputs": [
        {
          "output_type": "stream",
          "name": "stdout",
          "text": [
            "Patients have a mean measures of 10.9.\n"
          ]
        }
      ]
    },
    {
      "cell_type": "code",
      "metadata": {
        "colab": {
          "base_uri": "https://localhost:8080/",
          "height": 142
        },
        "id": "YBrkGrZUMkmq",
        "outputId": "d9e3be2a-cd9a-4d25-8430-4affcc551be0"
      },
      "source": [
        "df.groupby('Center').mean()"
      ],
      "execution_count": 5,
      "outputs": [
        {
          "output_type": "execute_result",
          "data": {
            "text/html": [
              "<div>\n",
              "<style scoped>\n",
              "    .dataframe tbody tr th:only-of-type {\n",
              "        vertical-align: middle;\n",
              "    }\n",
              "\n",
              "    .dataframe tbody tr th {\n",
              "        vertical-align: top;\n",
              "    }\n",
              "\n",
              "    .dataframe thead th {\n",
              "        text-align: right;\n",
              "    }\n",
              "</style>\n",
              "<table border=\"1\" class=\"dataframe\">\n",
              "  <thead>\n",
              "    <tr style=\"text-align: right;\">\n",
              "      <th></th>\n",
              "      <th>Measures</th>\n",
              "    </tr>\n",
              "    <tr>\n",
              "      <th>Center</th>\n",
              "      <th></th>\n",
              "    </tr>\n",
              "  </thead>\n",
              "  <tbody>\n",
              "    <tr>\n",
              "      <th>1</th>\n",
              "      <td>12.460000</td>\n",
              "    </tr>\n",
              "    <tr>\n",
              "      <th>2</th>\n",
              "      <td>9.566667</td>\n",
              "    </tr>\n",
              "  </tbody>\n",
              "</table>\n",
              "</div>"
            ],
            "text/plain": [
              "         Measures\n",
              "Center           \n",
              "1       12.460000\n",
              "2        9.566667"
            ]
          },
          "metadata": {},
          "execution_count": 5
        }
      ]
    },
    {
      "cell_type": "markdown",
      "metadata": {
        "id": "hW_i9ylP048s"
      },
      "source": [
        "## **B) Manipulate DataFrame**"
      ]
    },
    {
      "cell_type": "markdown",
      "metadata": {
        "id": "oHKnrhkxM7Z7"
      },
      "source": [
        "\n",
        "\n",
        "---\n",
        "\n",
        "### **Exercise 2**\n",
        "\n",
        "**From the following DataFrame:**\n",
        "* Display the first 3 rows.\n",
        "* Display the column age.\n",
        "* Display the number of rows.\n",
        "* Display the proportion of male and female patients.\n",
        "* Display the 'id' of the youngest and oldest patient along with the corresponding ages.\n",
        "* Display the patients over 40 years old.\n",
        "* Compute the BMI of each patients and add a new column with this value in your DataFrame. The value would be an integer.\n",
        "* Create a new column from BMI with categorical version of BMI. \n",
        "* Display the number of patients by category of BMI\n",
        "* Give the mean age of each category.\n",
        "\n",
        " \n",
        "\n",
        "```\n",
        "df = pd.DataFrame({\n",
        "  'id': ['085','086','087','088','089','090','091','092','093','094'],\n",
        "  'age':[19,42,25,58,36,74,65,20,47,32],\n",
        "  'weight':['50', '46', '60', '103','75','68','82', '96','74', '113'],\n",
        "  'height':[158, 174, 195, 169, 158, 201, 189, 163, 184, 173],\n",
        "  'sex':['F','F','F','M','M','F','M','F','F','M']\n",
        "})\n",
        "\n",
        "```\n",
        "**Note:** The Body Mass Index can be calculated with the formula:\n",
        "\n",
        "$$\n",
        "BMI = \\frac{Weight}{Height^2}\n",
        "$$\n",
        "with the $Height$ in meters and the $Weight$ in kg\n",
        "\n"
      ]
    },
    {
      "cell_type": "markdown",
      "metadata": {
        "id": "2el9TgoLRte_"
      },
      "source": [
        "### **Correction**"
      ]
    },
    {
      "cell_type": "code",
      "metadata": {
        "id": "7-g5kHSwN5vE"
      },
      "source": [
        "import pandas as pd\n",
        "\n",
        "# Creation of the DataFrame\n",
        "df = pd.DataFrame({\n",
        "  'id': ['085','086','087','088','089','090','091','092','093','094'],\n",
        "  'age':[19,42,25,58,36,74,65,20,47,32],\n",
        "  'weight':['50', '46', '60', '103','75','68','82', '96','74', '113'],\n",
        "  'height':[158, 174, 195, 169, 158, 201, 189, 163, 184, 173],\n",
        "  'sex':['F','F','F','M','M','F','M','F','F','M'],\n",
        "})"
      ],
      "execution_count": 6,
      "outputs": []
    },
    {
      "cell_type": "code",
      "metadata": {
        "colab": {
          "base_uri": "https://localhost:8080/"
        },
        "id": "ujljICkkygIS",
        "outputId": "0d7df866-a0ed-49de-ae77-6f2570b1adc2"
      },
      "source": [
        "# Display the first 3 rows\n",
        "print('The first 3 rows are:\\n')\n",
        "print(df.iloc[:3],'\\n')"
      ],
      "execution_count": 7,
      "outputs": [
        {
          "output_type": "stream",
          "name": "stdout",
          "text": [
            "The first 3 rows are:\n",
            "\n",
            "    id  age weight  height sex\n",
            "0  085   19     50     158   F\n",
            "1  086   42     46     174   F\n",
            "2  087   25     60     195   F \n",
            "\n"
          ]
        }
      ]
    },
    {
      "cell_type": "code",
      "metadata": {
        "colab": {
          "base_uri": "https://localhost:8080/"
        },
        "id": "Oj28RY-6yh6a",
        "outputId": "349424ea-839b-436f-dc8a-6353b2cf2b3b"
      },
      "source": [
        "# Display the column age\n",
        "print('The column age:\\n')\n",
        "print(df.age,'\\n')\n",
        "\n",
        "# or\n",
        "print(df.loc[:,'age'])\n",
        "\n",
        "# or\n",
        "\n",
        "print(df.iloc[:,1])\n",
        "\n",
        "# or\n",
        "print(df['age'])"
      ],
      "execution_count": 8,
      "outputs": [
        {
          "output_type": "stream",
          "name": "stdout",
          "text": [
            "The column age:\n",
            "\n",
            "0    19\n",
            "1    42\n",
            "2    25\n",
            "3    58\n",
            "4    36\n",
            "5    74\n",
            "6    65\n",
            "7    20\n",
            "8    47\n",
            "9    32\n",
            "Name: age, dtype: int64 \n",
            "\n",
            "0    19\n",
            "1    42\n",
            "2    25\n",
            "3    58\n",
            "4    36\n",
            "5    74\n",
            "6    65\n",
            "7    20\n",
            "8    47\n",
            "9    32\n",
            "Name: age, dtype: int64\n",
            "0    19\n",
            "1    42\n",
            "2    25\n",
            "3    58\n",
            "4    36\n",
            "5    74\n",
            "6    65\n",
            "7    20\n",
            "8    47\n",
            "9    32\n",
            "Name: age, dtype: int64\n",
            "0    19\n",
            "1    42\n",
            "2    25\n",
            "3    58\n",
            "4    36\n",
            "5    74\n",
            "6    65\n",
            "7    20\n",
            "8    47\n",
            "9    32\n",
            "Name: age, dtype: int64\n"
          ]
        }
      ]
    },
    {
      "cell_type": "code",
      "metadata": {
        "colab": {
          "base_uri": "https://localhost:8080/"
        },
        "id": "d-GdlguNykFq",
        "outputId": "4496a5f4-d707-4d05-d8eb-135b704ca1c1"
      },
      "source": [
        "# Display the number of rows\n",
        "print('There is %i rows.\\n' % df.shape[0])"
      ],
      "execution_count": 9,
      "outputs": [
        {
          "output_type": "stream",
          "name": "stdout",
          "text": [
            "There is 10 rows.\n",
            "\n"
          ]
        }
      ]
    },
    {
      "cell_type": "code",
      "metadata": {
        "colab": {
          "base_uri": "https://localhost:8080/"
        },
        "id": "hYoMbFQsyl_6",
        "outputId": "b5694b78-4a56-40a7-981e-5a58f7b7b6ee"
      },
      "source": [
        "# Display the proportion of male and female\n",
        "prop = df.groupby('sex').size()/df.shape[0]\n",
        "print('There is %i%% of female and %i%% of male' % (prop[0]*100, prop[1]*100))"
      ],
      "execution_count": 10,
      "outputs": [
        {
          "output_type": "stream",
          "name": "stdout",
          "text": [
            "There is 60% of female and 40% of male\n"
          ]
        }
      ]
    },
    {
      "cell_type": "code",
      "metadata": {
        "colab": {
          "base_uri": "https://localhost:8080/"
        },
        "id": "4CDyarepyowJ",
        "outputId": "c2b9c882-ca35-42c9-8c1e-675073451b36"
      },
      "source": [
        "# Display the 'id' of the youngest and oldest patient along with the corresponding ages.\n",
        "print('The youngest patient, id n°%s, has %i years old.' % (df.id[df.age.idxmin()], df.age.min()))\n",
        "print('The oldest patient, id n°%s, has %i years old' % (df.id[df.age.idxmax()], df.age.max()))"
      ],
      "execution_count": 11,
      "outputs": [
        {
          "output_type": "stream",
          "name": "stdout",
          "text": [
            "The youngest patient, id n°085, has 19 years old.\n",
            "The oldest patient, id n°090, has 74 years old\n"
          ]
        }
      ]
    },
    {
      "cell_type": "code",
      "metadata": {
        "colab": {
          "base_uri": "https://localhost:8080/",
          "height": 204
        },
        "id": "wnW_leSJ7e5p",
        "outputId": "0d238f37-3629-4350-de43-2aed114fe6fd"
      },
      "source": [
        "# Display the patients over 40 years old.\n",
        "df.loc[df['age']>40]"
      ],
      "execution_count": 12,
      "outputs": [
        {
          "output_type": "execute_result",
          "data": {
            "text/html": [
              "<div>\n",
              "<style scoped>\n",
              "    .dataframe tbody tr th:only-of-type {\n",
              "        vertical-align: middle;\n",
              "    }\n",
              "\n",
              "    .dataframe tbody tr th {\n",
              "        vertical-align: top;\n",
              "    }\n",
              "\n",
              "    .dataframe thead th {\n",
              "        text-align: right;\n",
              "    }\n",
              "</style>\n",
              "<table border=\"1\" class=\"dataframe\">\n",
              "  <thead>\n",
              "    <tr style=\"text-align: right;\">\n",
              "      <th></th>\n",
              "      <th>id</th>\n",
              "      <th>age</th>\n",
              "      <th>weight</th>\n",
              "      <th>height</th>\n",
              "      <th>sex</th>\n",
              "    </tr>\n",
              "  </thead>\n",
              "  <tbody>\n",
              "    <tr>\n",
              "      <th>1</th>\n",
              "      <td>086</td>\n",
              "      <td>42</td>\n",
              "      <td>46</td>\n",
              "      <td>174</td>\n",
              "      <td>F</td>\n",
              "    </tr>\n",
              "    <tr>\n",
              "      <th>3</th>\n",
              "      <td>088</td>\n",
              "      <td>58</td>\n",
              "      <td>103</td>\n",
              "      <td>169</td>\n",
              "      <td>M</td>\n",
              "    </tr>\n",
              "    <tr>\n",
              "      <th>5</th>\n",
              "      <td>090</td>\n",
              "      <td>74</td>\n",
              "      <td>68</td>\n",
              "      <td>201</td>\n",
              "      <td>F</td>\n",
              "    </tr>\n",
              "    <tr>\n",
              "      <th>6</th>\n",
              "      <td>091</td>\n",
              "      <td>65</td>\n",
              "      <td>82</td>\n",
              "      <td>189</td>\n",
              "      <td>M</td>\n",
              "    </tr>\n",
              "    <tr>\n",
              "      <th>8</th>\n",
              "      <td>093</td>\n",
              "      <td>47</td>\n",
              "      <td>74</td>\n",
              "      <td>184</td>\n",
              "      <td>F</td>\n",
              "    </tr>\n",
              "  </tbody>\n",
              "</table>\n",
              "</div>"
            ],
            "text/plain": [
              "    id  age weight  height sex\n",
              "1  086   42     46     174   F\n",
              "3  088   58    103     169   M\n",
              "5  090   74     68     201   F\n",
              "6  091   65     82     189   M\n",
              "8  093   47     74     184   F"
            ]
          },
          "metadata": {},
          "execution_count": 12
        }
      ]
    },
    {
      "cell_type": "code",
      "metadata": {
        "colab": {
          "base_uri": "https://localhost:8080/",
          "height": 359
        },
        "id": "034IIDBnyqkq",
        "outputId": "8a4bf86e-61ea-451a-8a25-32f840af5cd3"
      },
      "source": [
        "# Computation of the BMI\n",
        "df['BMI'] = (df.weight.astype(int)/((df.height/100)**2)).astype('int')\n",
        "df"
      ],
      "execution_count": 13,
      "outputs": [
        {
          "output_type": "execute_result",
          "data": {
            "text/html": [
              "<div>\n",
              "<style scoped>\n",
              "    .dataframe tbody tr th:only-of-type {\n",
              "        vertical-align: middle;\n",
              "    }\n",
              "\n",
              "    .dataframe tbody tr th {\n",
              "        vertical-align: top;\n",
              "    }\n",
              "\n",
              "    .dataframe thead th {\n",
              "        text-align: right;\n",
              "    }\n",
              "</style>\n",
              "<table border=\"1\" class=\"dataframe\">\n",
              "  <thead>\n",
              "    <tr style=\"text-align: right;\">\n",
              "      <th></th>\n",
              "      <th>id</th>\n",
              "      <th>age</th>\n",
              "      <th>weight</th>\n",
              "      <th>height</th>\n",
              "      <th>sex</th>\n",
              "      <th>BMI</th>\n",
              "    </tr>\n",
              "  </thead>\n",
              "  <tbody>\n",
              "    <tr>\n",
              "      <th>0</th>\n",
              "      <td>085</td>\n",
              "      <td>19</td>\n",
              "      <td>50</td>\n",
              "      <td>158</td>\n",
              "      <td>F</td>\n",
              "      <td>20</td>\n",
              "    </tr>\n",
              "    <tr>\n",
              "      <th>1</th>\n",
              "      <td>086</td>\n",
              "      <td>42</td>\n",
              "      <td>46</td>\n",
              "      <td>174</td>\n",
              "      <td>F</td>\n",
              "      <td>15</td>\n",
              "    </tr>\n",
              "    <tr>\n",
              "      <th>2</th>\n",
              "      <td>087</td>\n",
              "      <td>25</td>\n",
              "      <td>60</td>\n",
              "      <td>195</td>\n",
              "      <td>F</td>\n",
              "      <td>15</td>\n",
              "    </tr>\n",
              "    <tr>\n",
              "      <th>3</th>\n",
              "      <td>088</td>\n",
              "      <td>58</td>\n",
              "      <td>103</td>\n",
              "      <td>169</td>\n",
              "      <td>M</td>\n",
              "      <td>36</td>\n",
              "    </tr>\n",
              "    <tr>\n",
              "      <th>4</th>\n",
              "      <td>089</td>\n",
              "      <td>36</td>\n",
              "      <td>75</td>\n",
              "      <td>158</td>\n",
              "      <td>M</td>\n",
              "      <td>30</td>\n",
              "    </tr>\n",
              "    <tr>\n",
              "      <th>5</th>\n",
              "      <td>090</td>\n",
              "      <td>74</td>\n",
              "      <td>68</td>\n",
              "      <td>201</td>\n",
              "      <td>F</td>\n",
              "      <td>16</td>\n",
              "    </tr>\n",
              "    <tr>\n",
              "      <th>6</th>\n",
              "      <td>091</td>\n",
              "      <td>65</td>\n",
              "      <td>82</td>\n",
              "      <td>189</td>\n",
              "      <td>M</td>\n",
              "      <td>22</td>\n",
              "    </tr>\n",
              "    <tr>\n",
              "      <th>7</th>\n",
              "      <td>092</td>\n",
              "      <td>20</td>\n",
              "      <td>96</td>\n",
              "      <td>163</td>\n",
              "      <td>F</td>\n",
              "      <td>36</td>\n",
              "    </tr>\n",
              "    <tr>\n",
              "      <th>8</th>\n",
              "      <td>093</td>\n",
              "      <td>47</td>\n",
              "      <td>74</td>\n",
              "      <td>184</td>\n",
              "      <td>F</td>\n",
              "      <td>21</td>\n",
              "    </tr>\n",
              "    <tr>\n",
              "      <th>9</th>\n",
              "      <td>094</td>\n",
              "      <td>32</td>\n",
              "      <td>113</td>\n",
              "      <td>173</td>\n",
              "      <td>M</td>\n",
              "      <td>37</td>\n",
              "    </tr>\n",
              "  </tbody>\n",
              "</table>\n",
              "</div>"
            ],
            "text/plain": [
              "    id  age weight  height sex  BMI\n",
              "0  085   19     50     158   F   20\n",
              "1  086   42     46     174   F   15\n",
              "2  087   25     60     195   F   15\n",
              "3  088   58    103     169   M   36\n",
              "4  089   36     75     158   M   30\n",
              "5  090   74     68     201   F   16\n",
              "6  091   65     82     189   M   22\n",
              "7  092   20     96     163   F   36\n",
              "8  093   47     74     184   F   21\n",
              "9  094   32    113     173   M   37"
            ]
          },
          "metadata": {},
          "execution_count": 13
        }
      ]
    },
    {
      "cell_type": "code",
      "metadata": {
        "colab": {
          "base_uri": "https://localhost:8080/",
          "height": 359
        },
        "id": "Eefu-X_POyvs",
        "outputId": "1b964dab-758e-47d3-941d-e32473ee866e"
      },
      "source": [
        "# BMI as a categorical column\n",
        "df['BMI_cat'] = pd.cut(df.BMI, bins = [10, 18, 25, 30, 35, 40, 60],  right = False)\n",
        "df"
      ],
      "execution_count": 14,
      "outputs": [
        {
          "output_type": "execute_result",
          "data": {
            "text/html": [
              "<div>\n",
              "<style scoped>\n",
              "    .dataframe tbody tr th:only-of-type {\n",
              "        vertical-align: middle;\n",
              "    }\n",
              "\n",
              "    .dataframe tbody tr th {\n",
              "        vertical-align: top;\n",
              "    }\n",
              "\n",
              "    .dataframe thead th {\n",
              "        text-align: right;\n",
              "    }\n",
              "</style>\n",
              "<table border=\"1\" class=\"dataframe\">\n",
              "  <thead>\n",
              "    <tr style=\"text-align: right;\">\n",
              "      <th></th>\n",
              "      <th>id</th>\n",
              "      <th>age</th>\n",
              "      <th>weight</th>\n",
              "      <th>height</th>\n",
              "      <th>sex</th>\n",
              "      <th>BMI</th>\n",
              "      <th>BMI_cat</th>\n",
              "    </tr>\n",
              "  </thead>\n",
              "  <tbody>\n",
              "    <tr>\n",
              "      <th>0</th>\n",
              "      <td>085</td>\n",
              "      <td>19</td>\n",
              "      <td>50</td>\n",
              "      <td>158</td>\n",
              "      <td>F</td>\n",
              "      <td>20</td>\n",
              "      <td>[18, 25)</td>\n",
              "    </tr>\n",
              "    <tr>\n",
              "      <th>1</th>\n",
              "      <td>086</td>\n",
              "      <td>42</td>\n",
              "      <td>46</td>\n",
              "      <td>174</td>\n",
              "      <td>F</td>\n",
              "      <td>15</td>\n",
              "      <td>[10, 18)</td>\n",
              "    </tr>\n",
              "    <tr>\n",
              "      <th>2</th>\n",
              "      <td>087</td>\n",
              "      <td>25</td>\n",
              "      <td>60</td>\n",
              "      <td>195</td>\n",
              "      <td>F</td>\n",
              "      <td>15</td>\n",
              "      <td>[10, 18)</td>\n",
              "    </tr>\n",
              "    <tr>\n",
              "      <th>3</th>\n",
              "      <td>088</td>\n",
              "      <td>58</td>\n",
              "      <td>103</td>\n",
              "      <td>169</td>\n",
              "      <td>M</td>\n",
              "      <td>36</td>\n",
              "      <td>[35, 40)</td>\n",
              "    </tr>\n",
              "    <tr>\n",
              "      <th>4</th>\n",
              "      <td>089</td>\n",
              "      <td>36</td>\n",
              "      <td>75</td>\n",
              "      <td>158</td>\n",
              "      <td>M</td>\n",
              "      <td>30</td>\n",
              "      <td>[30, 35)</td>\n",
              "    </tr>\n",
              "    <tr>\n",
              "      <th>5</th>\n",
              "      <td>090</td>\n",
              "      <td>74</td>\n",
              "      <td>68</td>\n",
              "      <td>201</td>\n",
              "      <td>F</td>\n",
              "      <td>16</td>\n",
              "      <td>[10, 18)</td>\n",
              "    </tr>\n",
              "    <tr>\n",
              "      <th>6</th>\n",
              "      <td>091</td>\n",
              "      <td>65</td>\n",
              "      <td>82</td>\n",
              "      <td>189</td>\n",
              "      <td>M</td>\n",
              "      <td>22</td>\n",
              "      <td>[18, 25)</td>\n",
              "    </tr>\n",
              "    <tr>\n",
              "      <th>7</th>\n",
              "      <td>092</td>\n",
              "      <td>20</td>\n",
              "      <td>96</td>\n",
              "      <td>163</td>\n",
              "      <td>F</td>\n",
              "      <td>36</td>\n",
              "      <td>[35, 40)</td>\n",
              "    </tr>\n",
              "    <tr>\n",
              "      <th>8</th>\n",
              "      <td>093</td>\n",
              "      <td>47</td>\n",
              "      <td>74</td>\n",
              "      <td>184</td>\n",
              "      <td>F</td>\n",
              "      <td>21</td>\n",
              "      <td>[18, 25)</td>\n",
              "    </tr>\n",
              "    <tr>\n",
              "      <th>9</th>\n",
              "      <td>094</td>\n",
              "      <td>32</td>\n",
              "      <td>113</td>\n",
              "      <td>173</td>\n",
              "      <td>M</td>\n",
              "      <td>37</td>\n",
              "      <td>[35, 40)</td>\n",
              "    </tr>\n",
              "  </tbody>\n",
              "</table>\n",
              "</div>"
            ],
            "text/plain": [
              "    id  age weight  height sex  BMI   BMI_cat\n",
              "0  085   19     50     158   F   20  [18, 25)\n",
              "1  086   42     46     174   F   15  [10, 18)\n",
              "2  087   25     60     195   F   15  [10, 18)\n",
              "3  088   58    103     169   M   36  [35, 40)\n",
              "4  089   36     75     158   M   30  [30, 35)\n",
              "5  090   74     68     201   F   16  [10, 18)\n",
              "6  091   65     82     189   M   22  [18, 25)\n",
              "7  092   20     96     163   F   36  [35, 40)\n",
              "8  093   47     74     184   F   21  [18, 25)\n",
              "9  094   32    113     173   M   37  [35, 40)"
            ]
          },
          "metadata": {},
          "execution_count": 14
        }
      ]
    },
    {
      "cell_type": "code",
      "metadata": {
        "id": "hBaIEiRK0tf8",
        "colab": {
          "base_uri": "https://localhost:8080/"
        },
        "outputId": "457fb1e9-0162-455c-b30e-1e43af91dd1c"
      },
      "source": [
        "# Number of patients by category\n",
        "df[\"BMI_cat\"].value_counts()"
      ],
      "execution_count": 15,
      "outputs": [
        {
          "output_type": "execute_result",
          "data": {
            "text/plain": [
              "[35, 40)    3\n",
              "[18, 25)    3\n",
              "[10, 18)    3\n",
              "[30, 35)    1\n",
              "[40, 60)    0\n",
              "[25, 30)    0\n",
              "Name: BMI_cat, dtype: int64"
            ]
          },
          "metadata": {},
          "execution_count": 15
        }
      ]
    },
    {
      "cell_type": "code",
      "metadata": {
        "colab": {
          "base_uri": "https://localhost:8080/"
        },
        "id": "5eOytbgbedpt",
        "outputId": "fe1281ba-be96-42bc-d2fd-28e71bedcc83"
      },
      "source": [
        "# Mean age of each category\n",
        "df.groupby('BMI_cat')['age'].mean()"
      ],
      "execution_count": 16,
      "outputs": [
        {
          "output_type": "execute_result",
          "data": {
            "text/plain": [
              "BMI_cat\n",
              "[10, 18)    47.000000\n",
              "[18, 25)    43.666667\n",
              "[25, 30)          NaN\n",
              "[30, 35)    36.000000\n",
              "[35, 40)    36.666667\n",
              "[40, 60)          NaN\n",
              "Name: age, dtype: float64"
            ]
          },
          "metadata": {},
          "execution_count": 16
        }
      ]
    },
    {
      "cell_type": "markdown",
      "metadata": {
        "id": "HXavm_jCgcch"
      },
      "source": [
        "## **C) Date format**\n",
        "\n",
        "##**Exercise 3**\n",
        "\n",
        "**For this exercise, we will be using [HortonGeneralHospital.csv](https://archive.ics.uci.edu/ml/machine-learning-databases/00549/HortonGeneralHospital.csv) (https://archive.ics.uci.edu/ml/machine-learning-databases/00549/HortonGeneralHospital.csv) a dataset provided on the _UCI Machine Learning Repository_, .** \n",
        "\n",
        "**In this data set we have monthly numbers of transfers from Emergency Room into Critical Care classified in three exclusive categories at Horton General Hospital (Banbury, UK)from November 1999 to May 2011. The three categories are Cardio-respiratory arrest, Respiratory arrest and Hypoglycaemic arrest. You'll also find in this dataset the montly total number of patients entering Emergency Room.**\n",
        "\n",
        "**Description of variables:**\n",
        "* **Cardio**: Numbers of transfers from Emergency Room to Cardio-respiratory arrest. \n",
        "* **Resp:** Numbers of transfers from Emergency Room to Respiratory arrest.\n",
        "* **Hypo:** Numbers of transfers from Emergency room to Hypoglycaemic arrest.\n",
        "* **Adm:** Total number of patients entering Emergency Room.\n",
        "* **year:** Year of measurement.\n",
        "* **month:** Month of measurement.\n",
        "\n",
        "**From this data set we will do some date format manipulations.**\n",
        "\n",
        "1. **Import the dataset using the url.** (**Hint:** check the `read_csv` pandas' function).\n",
        "2. **Use the dates as an index**\n",
        "3. **Give the date with the most admission to Emergency Room.**\n",
        "4. **How many Hypoglycaemic arrest were recorded for 2004.**\n",
        "5. **From December 2003 to February 2004, use a time function to give you how many days passed**\n",
        "6. **Create a new column with a cummulative sum of the Cardio-respiratory arrest** \n",
        "7. **Create a new column with a rolling mean (with a 3 month windows) of the admission to Emergency Room and print the result.**\n",
        "\n",
        "\n"
      ]
    },
    {
      "cell_type": "markdown",
      "metadata": {
        "id": "AFd4maP_qtOP"
      },
      "source": [
        "### **Correction**\n"
      ]
    },
    {
      "cell_type": "markdown",
      "metadata": {
        "id": "w85WeiZKqvsG"
      },
      "source": [
        "**Task 1**\n",
        "\n",
        "To import a file from a url, we use the pandas `read_csv` function with the url as an argument. You can use the `help()` function to display all the available arguments of this function."
      ]
    },
    {
      "cell_type": "code",
      "metadata": {
        "colab": {
          "base_uri": "https://localhost:8080/"
        },
        "id": "qPy2gst5q7Eg",
        "outputId": "8a0abed3-fd14-471b-cff4-c09cd55dc971"
      },
      "source": [
        "import pandas as pd\n",
        "help(pd.read_csv)"
      ],
      "execution_count": 17,
      "outputs": [
        {
          "output_type": "stream",
          "name": "stdout",
          "text": [
            "Help on function read_csv in module pandas.io.parsers:\n",
            "\n",
            "read_csv(filepath_or_buffer: Union[str, pathlib.Path, IO[~AnyStr]], sep=',', delimiter=None, header='infer', names=None, index_col=None, usecols=None, squeeze=False, prefix=None, mangle_dupe_cols=True, dtype=None, engine=None, converters=None, true_values=None, false_values=None, skipinitialspace=False, skiprows=None, skipfooter=0, nrows=None, na_values=None, keep_default_na=True, na_filter=True, verbose=False, skip_blank_lines=True, parse_dates=False, infer_datetime_format=False, keep_date_col=False, date_parser=None, dayfirst=False, cache_dates=True, iterator=False, chunksize=None, compression='infer', thousands=None, decimal: str = '.', lineterminator=None, quotechar='\"', quoting=0, doublequote=True, escapechar=None, comment=None, encoding=None, dialect=None, error_bad_lines=True, warn_bad_lines=True, delim_whitespace=False, low_memory=True, memory_map=False, float_precision=None)\n",
            "    Read a comma-separated values (csv) file into DataFrame.\n",
            "    \n",
            "    Also supports optionally iterating or breaking of the file\n",
            "    into chunks.\n",
            "    \n",
            "    Additional help can be found in the online docs for\n",
            "    `IO Tools <https://pandas.pydata.org/pandas-docs/stable/user_guide/io.html>`_.\n",
            "    \n",
            "    Parameters\n",
            "    ----------\n",
            "    filepath_or_buffer : str, path object or file-like object\n",
            "        Any valid string path is acceptable. The string could be a URL. Valid\n",
            "        URL schemes include http, ftp, s3, gs, and file. For file URLs, a host is\n",
            "        expected. A local file could be: file://localhost/path/to/table.csv.\n",
            "    \n",
            "        If you want to pass in a path object, pandas accepts any ``os.PathLike``.\n",
            "    \n",
            "        By file-like object, we refer to objects with a ``read()`` method, such as\n",
            "        a file handler (e.g. via builtin ``open`` function) or ``StringIO``.\n",
            "    sep : str, default ','\n",
            "        Delimiter to use. If sep is None, the C engine cannot automatically detect\n",
            "        the separator, but the Python parsing engine can, meaning the latter will\n",
            "        be used and automatically detect the separator by Python's builtin sniffer\n",
            "        tool, ``csv.Sniffer``. In addition, separators longer than 1 character and\n",
            "        different from ``'\\s+'`` will be interpreted as regular expressions and\n",
            "        will also force the use of the Python parsing engine. Note that regex\n",
            "        delimiters are prone to ignoring quoted data. Regex example: ``'\\r\\t'``.\n",
            "    delimiter : str, default ``None``\n",
            "        Alias for sep.\n",
            "    header : int, list of int, default 'infer'\n",
            "        Row number(s) to use as the column names, and the start of the\n",
            "        data.  Default behavior is to infer the column names: if no names\n",
            "        are passed the behavior is identical to ``header=0`` and column\n",
            "        names are inferred from the first line of the file, if column\n",
            "        names are passed explicitly then the behavior is identical to\n",
            "        ``header=None``. Explicitly pass ``header=0`` to be able to\n",
            "        replace existing names. The header can be a list of integers that\n",
            "        specify row locations for a multi-index on the columns\n",
            "        e.g. [0,1,3]. Intervening rows that are not specified will be\n",
            "        skipped (e.g. 2 in this example is skipped). Note that this\n",
            "        parameter ignores commented lines and empty lines if\n",
            "        ``skip_blank_lines=True``, so ``header=0`` denotes the first line of\n",
            "        data rather than the first line of the file.\n",
            "    names : array-like, optional\n",
            "        List of column names to use. If the file contains a header row,\n",
            "        then you should explicitly pass ``header=0`` to override the column names.\n",
            "        Duplicates in this list are not allowed.\n",
            "    index_col : int, str, sequence of int / str, or False, default ``None``\n",
            "      Column(s) to use as the row labels of the ``DataFrame``, either given as\n",
            "      string name or column index. If a sequence of int / str is given, a\n",
            "      MultiIndex is used.\n",
            "    \n",
            "      Note: ``index_col=False`` can be used to force pandas to *not* use the first\n",
            "      column as the index, e.g. when you have a malformed file with delimiters at\n",
            "      the end of each line.\n",
            "    usecols : list-like or callable, optional\n",
            "        Return a subset of the columns. If list-like, all elements must either\n",
            "        be positional (i.e. integer indices into the document columns) or strings\n",
            "        that correspond to column names provided either by the user in `names` or\n",
            "        inferred from the document header row(s). For example, a valid list-like\n",
            "        `usecols` parameter would be ``[0, 1, 2]`` or ``['foo', 'bar', 'baz']``.\n",
            "        Element order is ignored, so ``usecols=[0, 1]`` is the same as ``[1, 0]``.\n",
            "        To instantiate a DataFrame from ``data`` with element order preserved use\n",
            "        ``pd.read_csv(data, usecols=['foo', 'bar'])[['foo', 'bar']]`` for columns\n",
            "        in ``['foo', 'bar']`` order or\n",
            "        ``pd.read_csv(data, usecols=['foo', 'bar'])[['bar', 'foo']]``\n",
            "        for ``['bar', 'foo']`` order.\n",
            "    \n",
            "        If callable, the callable function will be evaluated against the column\n",
            "        names, returning names where the callable function evaluates to True. An\n",
            "        example of a valid callable argument would be ``lambda x: x.upper() in\n",
            "        ['AAA', 'BBB', 'DDD']``. Using this parameter results in much faster\n",
            "        parsing time and lower memory usage.\n",
            "    squeeze : bool, default False\n",
            "        If the parsed data only contains one column then return a Series.\n",
            "    prefix : str, optional\n",
            "        Prefix to add to column numbers when no header, e.g. 'X' for X0, X1, ...\n",
            "    mangle_dupe_cols : bool, default True\n",
            "        Duplicate columns will be specified as 'X', 'X.1', ...'X.N', rather than\n",
            "        'X'...'X'. Passing in False will cause data to be overwritten if there\n",
            "        are duplicate names in the columns.\n",
            "    dtype : Type name or dict of column -> type, optional\n",
            "        Data type for data or columns. E.g. {'a': np.float64, 'b': np.int32,\n",
            "        'c': 'Int64'}\n",
            "        Use `str` or `object` together with suitable `na_values` settings\n",
            "        to preserve and not interpret dtype.\n",
            "        If converters are specified, they will be applied INSTEAD\n",
            "        of dtype conversion.\n",
            "    engine : {'c', 'python'}, optional\n",
            "        Parser engine to use. The C engine is faster while the python engine is\n",
            "        currently more feature-complete.\n",
            "    converters : dict, optional\n",
            "        Dict of functions for converting values in certain columns. Keys can either\n",
            "        be integers or column labels.\n",
            "    true_values : list, optional\n",
            "        Values to consider as True.\n",
            "    false_values : list, optional\n",
            "        Values to consider as False.\n",
            "    skipinitialspace : bool, default False\n",
            "        Skip spaces after delimiter.\n",
            "    skiprows : list-like, int or callable, optional\n",
            "        Line numbers to skip (0-indexed) or number of lines to skip (int)\n",
            "        at the start of the file.\n",
            "    \n",
            "        If callable, the callable function will be evaluated against the row\n",
            "        indices, returning True if the row should be skipped and False otherwise.\n",
            "        An example of a valid callable argument would be ``lambda x: x in [0, 2]``.\n",
            "    skipfooter : int, default 0\n",
            "        Number of lines at bottom of file to skip (Unsupported with engine='c').\n",
            "    nrows : int, optional\n",
            "        Number of rows of file to read. Useful for reading pieces of large files.\n",
            "    na_values : scalar, str, list-like, or dict, optional\n",
            "        Additional strings to recognize as NA/NaN. If dict passed, specific\n",
            "        per-column NA values.  By default the following values are interpreted as\n",
            "        NaN: '', '#N/A', '#N/A N/A', '#NA', '-1.#IND', '-1.#QNAN', '-NaN', '-nan',\n",
            "        '1.#IND', '1.#QNAN', '<NA>', 'N/A', 'NA', 'NULL', 'NaN', 'n/a',\n",
            "        'nan', 'null'.\n",
            "    keep_default_na : bool, default True\n",
            "        Whether or not to include the default NaN values when parsing the data.\n",
            "        Depending on whether `na_values` is passed in, the behavior is as follows:\n",
            "    \n",
            "        * If `keep_default_na` is True, and `na_values` are specified, `na_values`\n",
            "          is appended to the default NaN values used for parsing.\n",
            "        * If `keep_default_na` is True, and `na_values` are not specified, only\n",
            "          the default NaN values are used for parsing.\n",
            "        * If `keep_default_na` is False, and `na_values` are specified, only\n",
            "          the NaN values specified `na_values` are used for parsing.\n",
            "        * If `keep_default_na` is False, and `na_values` are not specified, no\n",
            "          strings will be parsed as NaN.\n",
            "    \n",
            "        Note that if `na_filter` is passed in as False, the `keep_default_na` and\n",
            "        `na_values` parameters will be ignored.\n",
            "    na_filter : bool, default True\n",
            "        Detect missing value markers (empty strings and the value of na_values). In\n",
            "        data without any NAs, passing na_filter=False can improve the performance\n",
            "        of reading a large file.\n",
            "    verbose : bool, default False\n",
            "        Indicate number of NA values placed in non-numeric columns.\n",
            "    skip_blank_lines : bool, default True\n",
            "        If True, skip over blank lines rather than interpreting as NaN values.\n",
            "    parse_dates : bool or list of int or names or list of lists or dict, default False\n",
            "        The behavior is as follows:\n",
            "    \n",
            "        * boolean. If True -> try parsing the index.\n",
            "        * list of int or names. e.g. If [1, 2, 3] -> try parsing columns 1, 2, 3\n",
            "          each as a separate date column.\n",
            "        * list of lists. e.g.  If [[1, 3]] -> combine columns 1 and 3 and parse as\n",
            "          a single date column.\n",
            "        * dict, e.g. {'foo' : [1, 3]} -> parse columns 1, 3 as date and call\n",
            "          result 'foo'\n",
            "    \n",
            "        If a column or index cannot be represented as an array of datetimes,\n",
            "        say because of an unparseable value or a mixture of timezones, the column\n",
            "        or index will be returned unaltered as an object data type. For\n",
            "        non-standard datetime parsing, use ``pd.to_datetime`` after\n",
            "        ``pd.read_csv``. To parse an index or column with a mixture of timezones,\n",
            "        specify ``date_parser`` to be a partially-applied\n",
            "        :func:`pandas.to_datetime` with ``utc=True``. See\n",
            "        :ref:`io.csv.mixed_timezones` for more.\n",
            "    \n",
            "        Note: A fast-path exists for iso8601-formatted dates.\n",
            "    infer_datetime_format : bool, default False\n",
            "        If True and `parse_dates` is enabled, pandas will attempt to infer the\n",
            "        format of the datetime strings in the columns, and if it can be inferred,\n",
            "        switch to a faster method of parsing them. In some cases this can increase\n",
            "        the parsing speed by 5-10x.\n",
            "    keep_date_col : bool, default False\n",
            "        If True and `parse_dates` specifies combining multiple columns then\n",
            "        keep the original columns.\n",
            "    date_parser : function, optional\n",
            "        Function to use for converting a sequence of string columns to an array of\n",
            "        datetime instances. The default uses ``dateutil.parser.parser`` to do the\n",
            "        conversion. Pandas will try to call `date_parser` in three different ways,\n",
            "        advancing to the next if an exception occurs: 1) Pass one or more arrays\n",
            "        (as defined by `parse_dates`) as arguments; 2) concatenate (row-wise) the\n",
            "        string values from the columns defined by `parse_dates` into a single array\n",
            "        and pass that; and 3) call `date_parser` once for each row using one or\n",
            "        more strings (corresponding to the columns defined by `parse_dates`) as\n",
            "        arguments.\n",
            "    dayfirst : bool, default False\n",
            "        DD/MM format dates, international and European format.\n",
            "    cache_dates : bool, default True\n",
            "        If True, use a cache of unique, converted dates to apply the datetime\n",
            "        conversion. May produce significant speed-up when parsing duplicate\n",
            "        date strings, especially ones with timezone offsets.\n",
            "    \n",
            "        .. versionadded:: 0.25.0\n",
            "    iterator : bool, default False\n",
            "        Return TextFileReader object for iteration or getting chunks with\n",
            "        ``get_chunk()``.\n",
            "    chunksize : int, optional\n",
            "        Return TextFileReader object for iteration.\n",
            "        See the `IO Tools docs\n",
            "        <https://pandas.pydata.org/pandas-docs/stable/io.html#io-chunking>`_\n",
            "        for more information on ``iterator`` and ``chunksize``.\n",
            "    compression : {'infer', 'gzip', 'bz2', 'zip', 'xz', None}, default 'infer'\n",
            "        For on-the-fly decompression of on-disk data. If 'infer' and\n",
            "        `filepath_or_buffer` is path-like, then detect compression from the\n",
            "        following extensions: '.gz', '.bz2', '.zip', or '.xz' (otherwise no\n",
            "        decompression). If using 'zip', the ZIP file must contain only one data\n",
            "        file to be read in. Set to None for no decompression.\n",
            "    thousands : str, optional\n",
            "        Thousands separator.\n",
            "    decimal : str, default '.'\n",
            "        Character to recognize as decimal point (e.g. use ',' for European data).\n",
            "    lineterminator : str (length 1), optional\n",
            "        Character to break file into lines. Only valid with C parser.\n",
            "    quotechar : str (length 1), optional\n",
            "        The character used to denote the start and end of a quoted item. Quoted\n",
            "        items can include the delimiter and it will be ignored.\n",
            "    quoting : int or csv.QUOTE_* instance, default 0\n",
            "        Control field quoting behavior per ``csv.QUOTE_*`` constants. Use one of\n",
            "        QUOTE_MINIMAL (0), QUOTE_ALL (1), QUOTE_NONNUMERIC (2) or QUOTE_NONE (3).\n",
            "    doublequote : bool, default ``True``\n",
            "       When quotechar is specified and quoting is not ``QUOTE_NONE``, indicate\n",
            "       whether or not to interpret two consecutive quotechar elements INSIDE a\n",
            "       field as a single ``quotechar`` element.\n",
            "    escapechar : str (length 1), optional\n",
            "        One-character string used to escape other characters.\n",
            "    comment : str, optional\n",
            "        Indicates remainder of line should not be parsed. If found at the beginning\n",
            "        of a line, the line will be ignored altogether. This parameter must be a\n",
            "        single character. Like empty lines (as long as ``skip_blank_lines=True``),\n",
            "        fully commented lines are ignored by the parameter `header` but not by\n",
            "        `skiprows`. For example, if ``comment='#'``, parsing\n",
            "        ``#empty\\na,b,c\\n1,2,3`` with ``header=0`` will result in 'a,b,c' being\n",
            "        treated as the header.\n",
            "    encoding : str, optional\n",
            "        Encoding to use for UTF when reading/writing (ex. 'utf-8'). `List of Python\n",
            "        standard encodings\n",
            "        <https://docs.python.org/3/library/codecs.html#standard-encodings>`_ .\n",
            "    dialect : str or csv.Dialect, optional\n",
            "        If provided, this parameter will override values (default or not) for the\n",
            "        following parameters: `delimiter`, `doublequote`, `escapechar`,\n",
            "        `skipinitialspace`, `quotechar`, and `quoting`. If it is necessary to\n",
            "        override values, a ParserWarning will be issued. See csv.Dialect\n",
            "        documentation for more details.\n",
            "    error_bad_lines : bool, default True\n",
            "        Lines with too many fields (e.g. a csv line with too many commas) will by\n",
            "        default cause an exception to be raised, and no DataFrame will be returned.\n",
            "        If False, then these \"bad lines\" will dropped from the DataFrame that is\n",
            "        returned.\n",
            "    warn_bad_lines : bool, default True\n",
            "        If error_bad_lines is False, and warn_bad_lines is True, a warning for each\n",
            "        \"bad line\" will be output.\n",
            "    delim_whitespace : bool, default False\n",
            "        Specifies whether or not whitespace (e.g. ``' '`` or ``'    '``) will be\n",
            "        used as the sep. Equivalent to setting ``sep='\\s+'``. If this option\n",
            "        is set to True, nothing should be passed in for the ``delimiter``\n",
            "        parameter.\n",
            "    low_memory : bool, default True\n",
            "        Internally process the file in chunks, resulting in lower memory use\n",
            "        while parsing, but possibly mixed type inference.  To ensure no mixed\n",
            "        types either set False, or specify the type with the `dtype` parameter.\n",
            "        Note that the entire file is read into a single DataFrame regardless,\n",
            "        use the `chunksize` or `iterator` parameter to return the data in chunks.\n",
            "        (Only valid with C parser).\n",
            "    memory_map : bool, default False\n",
            "        If a filepath is provided for `filepath_or_buffer`, map the file object\n",
            "        directly onto memory and access the data directly from there. Using this\n",
            "        option can improve performance because there is no longer any I/O overhead.\n",
            "    float_precision : str, optional\n",
            "        Specifies which converter the C engine should use for floating-point\n",
            "        values. The options are `None` for the ordinary converter,\n",
            "        `high` for the high-precision converter, and `round_trip` for the\n",
            "        round-trip converter.\n",
            "    \n",
            "    Returns\n",
            "    -------\n",
            "    DataFrame or TextParser\n",
            "        A comma-separated values (csv) file is returned as two-dimensional\n",
            "        data structure with labeled axes.\n",
            "    \n",
            "    See Also\n",
            "    --------\n",
            "    DataFrame.to_csv : Write DataFrame to a comma-separated values (csv) file.\n",
            "    read_csv : Read a comma-separated values (csv) file into DataFrame.\n",
            "    read_fwf : Read a table of fixed-width formatted lines into DataFrame.\n",
            "    \n",
            "    Examples\n",
            "    --------\n",
            "    >>> pd.read_csv('data.csv')  # doctest: +SKIP\n",
            "\n"
          ]
        }
      ]
    },
    {
      "cell_type": "markdown",
      "metadata": {
        "id": "neZsdbx6roal"
      },
      "source": [
        "The `sep` and `decimal` arguments are very importants. The `sep` defines what will be the separator between columns of the csv file, `decimal` gives the character to recognize as decimal point. For instance in French we use the coma as a decimal and in England it is the point. A file can be badly imported and generate bad analysis if you are not careful enough. Usually the function automatically detect the `sep` and `decimal` used in a csv file. But mistakes can be done with a .txt file for instance. Whatever the file, it is always a good practice to check the importation by using a `head()` function and check the type of variables of your dataset. \n",
        "\n",
        "Another important argument is how does the NaN values are handled. The `na_values` allows you to specified a scalar or a string which should be assumed as NaN (in addition to NA/NaN). For instance a '-' or 'x' could have been used as a NA values but the importation will consider them as valid values. \n",
        "\n",
        "`dtypes` allows you to specify the column types with a dictionary. {'<column1>':<typeOfColumn1>,...,'<columnp>':<typeOfColumnp>}.\n",
        "\n",
        "The `encoding` argument can be useful if some columns contain string with special characters. With the right encoding value, the character will appear correctly in the dataset. \n",
        "\n",
        "Finally, the `parse_date` argument allows you to specify how do you want to handle the date column. With a `True` argument, all the index will be parse to a date. You can specify which column you want to sparce with a list and you can also specify if you want to merge to column (of dates) into a new column of date format. This argument is what we are interested by with this exercise. "
      ]
    },
    {
      "cell_type": "code",
      "metadata": {
        "colab": {
          "base_uri": "https://localhost:8080/",
          "height": 204
        },
        "id": "MulZ5vegwUc9",
        "outputId": "679f3230-63ec-4c84-ee5d-ebe12dbb2bd1"
      },
      "source": [
        "import pandas as pd\n",
        "\n",
        "url = \"https://archive.ics.uci.edu/ml/machine-learning-databases/00549/HortonGeneralHospital.csv\"\n",
        "\n",
        "# Import the dataset\n",
        "df = pd.read_csv(filepath_or_buffer = url, sep = ',', decimal = '.', index_col = 1, parse_dates = [[5, 6]])\n",
        "df.head()\n"
      ],
      "execution_count": 18,
      "outputs": [
        {
          "output_type": "execute_result",
          "data": {
            "text/html": [
              "<div>\n",
              "<style scoped>\n",
              "    .dataframe tbody tr th:only-of-type {\n",
              "        vertical-align: middle;\n",
              "    }\n",
              "\n",
              "    .dataframe tbody tr th {\n",
              "        vertical-align: top;\n",
              "    }\n",
              "\n",
              "    .dataframe thead th {\n",
              "        text-align: right;\n",
              "    }\n",
              "</style>\n",
              "<table border=\"1\" class=\"dataframe\">\n",
              "  <thead>\n",
              "    <tr style=\"text-align: right;\">\n",
              "      <th></th>\n",
              "      <th>year_month</th>\n",
              "      <th>Cardio</th>\n",
              "      <th>Resp</th>\n",
              "      <th>Hypo</th>\n",
              "      <th>Adm</th>\n",
              "    </tr>\n",
              "  </thead>\n",
              "  <tbody>\n",
              "    <tr>\n",
              "      <th>1</th>\n",
              "      <td>1999-11-01</td>\n",
              "      <td>1</td>\n",
              "      <td>0</td>\n",
              "      <td>0</td>\n",
              "      <td>413</td>\n",
              "    </tr>\n",
              "    <tr>\n",
              "      <th>2</th>\n",
              "      <td>1999-12-01</td>\n",
              "      <td>1</td>\n",
              "      <td>0</td>\n",
              "      <td>0</td>\n",
              "      <td>443</td>\n",
              "    </tr>\n",
              "    <tr>\n",
              "      <th>3</th>\n",
              "      <td>2000-01-01</td>\n",
              "      <td>1</td>\n",
              "      <td>0</td>\n",
              "      <td>0</td>\n",
              "      <td>378</td>\n",
              "    </tr>\n",
              "    <tr>\n",
              "      <th>4</th>\n",
              "      <td>2000-02-01</td>\n",
              "      <td>0</td>\n",
              "      <td>0</td>\n",
              "      <td>0</td>\n",
              "      <td>385</td>\n",
              "    </tr>\n",
              "    <tr>\n",
              "      <th>5</th>\n",
              "      <td>2000-03-01</td>\n",
              "      <td>1</td>\n",
              "      <td>0</td>\n",
              "      <td>0</td>\n",
              "      <td>388</td>\n",
              "    </tr>\n",
              "  </tbody>\n",
              "</table>\n",
              "</div>"
            ],
            "text/plain": [
              "  year_month  Cardio  Resp  Hypo  Adm\n",
              "1 1999-11-01       1     0     0  413\n",
              "2 1999-12-01       1     0     0  443\n",
              "3 2000-01-01       1     0     0  378\n",
              "4 2000-02-01       0     0     0  385\n",
              "5 2000-03-01       1     0     0  388"
            ]
          },
          "metadata": {},
          "execution_count": 18
        }
      ]
    },
    {
      "cell_type": "markdown",
      "metadata": {
        "id": "HaMIvg2TDEks"
      },
      "source": [
        "**Task 2**\n",
        "\n",
        "Use the dates as an index."
      ]
    },
    {
      "cell_type": "code",
      "metadata": {
        "id": "OyJUXCXgDNBZ"
      },
      "source": [
        "df = df.set_index(\"year_month\")\n"
      ],
      "execution_count": 19,
      "outputs": []
    },
    {
      "cell_type": "code",
      "metadata": {
        "colab": {
          "base_uri": "https://localhost:8080/",
          "height": 450
        },
        "id": "kmIkW4BAT28J",
        "outputId": "6306acf1-234a-48e3-d046-3fa281681b08"
      },
      "source": [
        "df"
      ],
      "execution_count": 20,
      "outputs": [
        {
          "output_type": "execute_result",
          "data": {
            "text/html": [
              "<div>\n",
              "<style scoped>\n",
              "    .dataframe tbody tr th:only-of-type {\n",
              "        vertical-align: middle;\n",
              "    }\n",
              "\n",
              "    .dataframe tbody tr th {\n",
              "        vertical-align: top;\n",
              "    }\n",
              "\n",
              "    .dataframe thead th {\n",
              "        text-align: right;\n",
              "    }\n",
              "</style>\n",
              "<table border=\"1\" class=\"dataframe\">\n",
              "  <thead>\n",
              "    <tr style=\"text-align: right;\">\n",
              "      <th></th>\n",
              "      <th>Cardio</th>\n",
              "      <th>Resp</th>\n",
              "      <th>Hypo</th>\n",
              "      <th>Adm</th>\n",
              "    </tr>\n",
              "    <tr>\n",
              "      <th>year_month</th>\n",
              "      <th></th>\n",
              "      <th></th>\n",
              "      <th></th>\n",
              "      <th></th>\n",
              "    </tr>\n",
              "  </thead>\n",
              "  <tbody>\n",
              "    <tr>\n",
              "      <th>1999-11-01</th>\n",
              "      <td>1</td>\n",
              "      <td>0</td>\n",
              "      <td>0</td>\n",
              "      <td>413</td>\n",
              "    </tr>\n",
              "    <tr>\n",
              "      <th>1999-12-01</th>\n",
              "      <td>1</td>\n",
              "      <td>0</td>\n",
              "      <td>0</td>\n",
              "      <td>443</td>\n",
              "    </tr>\n",
              "    <tr>\n",
              "      <th>2000-01-01</th>\n",
              "      <td>1</td>\n",
              "      <td>0</td>\n",
              "      <td>0</td>\n",
              "      <td>378</td>\n",
              "    </tr>\n",
              "    <tr>\n",
              "      <th>2000-02-01</th>\n",
              "      <td>0</td>\n",
              "      <td>0</td>\n",
              "      <td>0</td>\n",
              "      <td>385</td>\n",
              "    </tr>\n",
              "    <tr>\n",
              "      <th>2000-03-01</th>\n",
              "      <td>1</td>\n",
              "      <td>0</td>\n",
              "      <td>0</td>\n",
              "      <td>388</td>\n",
              "    </tr>\n",
              "    <tr>\n",
              "      <th>...</th>\n",
              "      <td>...</td>\n",
              "      <td>...</td>\n",
              "      <td>...</td>\n",
              "      <td>...</td>\n",
              "    </tr>\n",
              "    <tr>\n",
              "      <th>2011-01-01</th>\n",
              "      <td>0</td>\n",
              "      <td>0</td>\n",
              "      <td>0</td>\n",
              "      <td>541</td>\n",
              "    </tr>\n",
              "    <tr>\n",
              "      <th>2011-02-01</th>\n",
              "      <td>1</td>\n",
              "      <td>0</td>\n",
              "      <td>0</td>\n",
              "      <td>457</td>\n",
              "    </tr>\n",
              "    <tr>\n",
              "      <th>2011-03-01</th>\n",
              "      <td>3</td>\n",
              "      <td>0</td>\n",
              "      <td>0</td>\n",
              "      <td>560</td>\n",
              "    </tr>\n",
              "    <tr>\n",
              "      <th>2011-04-01</th>\n",
              "      <td>1</td>\n",
              "      <td>0</td>\n",
              "      <td>0</td>\n",
              "      <td>514</td>\n",
              "    </tr>\n",
              "    <tr>\n",
              "      <th>2011-05-01</th>\n",
              "      <td>0</td>\n",
              "      <td>0</td>\n",
              "      <td>0</td>\n",
              "      <td>373</td>\n",
              "    </tr>\n",
              "  </tbody>\n",
              "</table>\n",
              "<p>139 rows × 4 columns</p>\n",
              "</div>"
            ],
            "text/plain": [
              "            Cardio  Resp  Hypo  Adm\n",
              "year_month                         \n",
              "1999-11-01       1     0     0  413\n",
              "1999-12-01       1     0     0  443\n",
              "2000-01-01       1     0     0  378\n",
              "2000-02-01       0     0     0  385\n",
              "2000-03-01       1     0     0  388\n",
              "...            ...   ...   ...  ...\n",
              "2011-01-01       0     0     0  541\n",
              "2011-02-01       1     0     0  457\n",
              "2011-03-01       3     0     0  560\n",
              "2011-04-01       1     0     0  514\n",
              "2011-05-01       0     0     0  373\n",
              "\n",
              "[139 rows x 4 columns]"
            ]
          },
          "metadata": {},
          "execution_count": 20
        }
      ]
    },
    {
      "cell_type": "markdown",
      "metadata": {
        "id": "xpQfIqZbjhwa"
      },
      "source": [
        "**Task 3**: Give the date with the most admission to Emergency center.\n",
        "\n",
        "To answer this question we need to use the `idxmax()` and `iloc()` methods of Pandas. `idxmax` will give us the index of the row maximizing the value and `iloc` will select the row corresponding to this index."
      ]
    },
    {
      "cell_type": "code",
      "metadata": {
        "colab": {
          "base_uri": "https://localhost:8080/"
        },
        "id": "iRIoZb3jSsnV",
        "outputId": "b81e831b-34db-4552-e475-676a69e7fb9e"
      },
      "source": [
        "date_max_adm = df['Adm'].idxmax()\n",
        "print(date_max_adm)\n",
        "print('The maximum number of admissions was reached on %s of %i with %i admissions.' % (date_max_adm.month_name(), date_max_adm.year, df.loc[date_max_adm].Adm))"
      ],
      "execution_count": 21,
      "outputs": [
        {
          "output_type": "stream",
          "name": "stdout",
          "text": [
            "2004-07-01 00:00:00\n",
            "The maximum number of admissions was reached on July of 2004 with 724 admissions.\n"
          ]
        }
      ]
    },
    {
      "cell_type": "markdown",
      "metadata": {
        "id": "l8wy0-SSlPNq"
      },
      "source": [
        "**Task 4**\n",
        "First we need to select all the records of 2004 and then to sum all the 'Hypo' values. "
      ]
    },
    {
      "cell_type": "code",
      "metadata": {
        "colab": {
          "base_uri": "https://localhost:8080/"
        },
        "id": "YHQyhgNFUWuq",
        "outputId": "8c1c9557-babd-4f72-e391-ca40ac623dab"
      },
      "source": [
        "df.loc['2004', 'Hypo'].sum()"
      ],
      "execution_count": 22,
      "outputs": [
        {
          "output_type": "execute_result",
          "data": {
            "text/plain": [
              "2"
            ]
          },
          "metadata": {},
          "execution_count": 22
        }
      ]
    },
    {
      "cell_type": "code",
      "metadata": {
        "colab": {
          "base_uri": "https://localhost:8080/"
        },
        "id": "pfqDdYTn4rK3",
        "outputId": "d405e74f-c0c7-41b1-8c52-806889a10ab3"
      },
      "source": [
        "Hypo_sum_2004 = df.loc['2004','Hypo'].sum()\n",
        "print(Hypo_sum_2004)"
      ],
      "execution_count": 23,
      "outputs": [
        {
          "output_type": "stream",
          "name": "stdout",
          "text": [
            "2\n"
          ]
        }
      ]
    },
    {
      "cell_type": "code",
      "metadata": {
        "colab": {
          "base_uri": "https://localhost:8080/"
        },
        "id": "i9mUSoZveKym",
        "outputId": "6c9aa5d7-9c0e-4f57-cf2c-d616712c6cd6"
      },
      "source": [
        "print('On 2004 there was %i hypoglycaemia arrests in total.' % df.loc['2004','Hypo'].sum())"
      ],
      "execution_count": 24,
      "outputs": [
        {
          "output_type": "stream",
          "name": "stdout",
          "text": [
            "On 2004 there was 2 hypoglycaemia arrests in total.\n"
          ]
        }
      ]
    },
    {
      "cell_type": "markdown",
      "metadata": {
        "id": "SKHlQlBUl4rJ"
      },
      "source": [
        "**Task 5**\n",
        "\n",
        "We can use operators on dates to calculate the number of days between two dates."
      ]
    },
    {
      "cell_type": "code",
      "metadata": {
        "colab": {
          "base_uri": "https://localhost:8080/"
        },
        "id": "er7m7cZumdkJ",
        "outputId": "279afdab-5eb3-4d42-b513-8d312ec1122d"
      },
      "source": [
        "x = (df.loc['2004-02'].index - df.loc['2003-12'].index)\n",
        "print('Between December 2003 and February 2004, there is %s.' % x.astype(str)[0])"
      ],
      "execution_count": 25,
      "outputs": [
        {
          "output_type": "stream",
          "name": "stdout",
          "text": [
            "Between December 2003 and February 2004, there is 62 days.\n"
          ]
        }
      ]
    },
    {
      "cell_type": "markdown",
      "metadata": {
        "id": "g--llcGSpQUO"
      },
      "source": [
        "**Task 6** \n",
        "Do a yearly summary of each column. We will use the `groupby` function with a year step on the index and the `agg` method to apply a list of function on each column. Every column is integer so we will compute the size, min, median, max, mean and standard deviation of each column for each year."
      ]
    },
    {
      "cell_type": "code",
      "metadata": {
        "colab": {
          "base_uri": "https://localhost:8080/",
          "height": 514
        },
        "id": "57LDlj3ApiYw",
        "outputId": "af153b4d-bbbf-4746-943d-737368a237e0"
      },
      "source": [
        "df.groupby(df.index.year).agg(['size','min','median','max','mean','std'])"
      ],
      "execution_count": 27,
      "outputs": [
        {
          "output_type": "execute_result",
          "data": {
            "text/html": [
              "<div>\n",
              "<style scoped>\n",
              "    .dataframe tbody tr th:only-of-type {\n",
              "        vertical-align: middle;\n",
              "    }\n",
              "\n",
              "    .dataframe tbody tr th {\n",
              "        vertical-align: top;\n",
              "    }\n",
              "\n",
              "    .dataframe thead tr th {\n",
              "        text-align: left;\n",
              "    }\n",
              "\n",
              "    .dataframe thead tr:last-of-type th {\n",
              "        text-align: right;\n",
              "    }\n",
              "</style>\n",
              "<table border=\"1\" class=\"dataframe\">\n",
              "  <thead>\n",
              "    <tr>\n",
              "      <th></th>\n",
              "      <th colspan=\"6\" halign=\"left\">Cardio</th>\n",
              "      <th colspan=\"6\" halign=\"left\">Resp</th>\n",
              "      <th colspan=\"6\" halign=\"left\">Hypo</th>\n",
              "      <th colspan=\"6\" halign=\"left\">Adm</th>\n",
              "    </tr>\n",
              "    <tr>\n",
              "      <th></th>\n",
              "      <th>size</th>\n",
              "      <th>min</th>\n",
              "      <th>median</th>\n",
              "      <th>max</th>\n",
              "      <th>mean</th>\n",
              "      <th>std</th>\n",
              "      <th>size</th>\n",
              "      <th>min</th>\n",
              "      <th>median</th>\n",
              "      <th>max</th>\n",
              "      <th>mean</th>\n",
              "      <th>std</th>\n",
              "      <th>size</th>\n",
              "      <th>min</th>\n",
              "      <th>median</th>\n",
              "      <th>max</th>\n",
              "      <th>mean</th>\n",
              "      <th>std</th>\n",
              "      <th>size</th>\n",
              "      <th>min</th>\n",
              "      <th>median</th>\n",
              "      <th>max</th>\n",
              "      <th>mean</th>\n",
              "      <th>std</th>\n",
              "    </tr>\n",
              "    <tr>\n",
              "      <th>year_month</th>\n",
              "      <th></th>\n",
              "      <th></th>\n",
              "      <th></th>\n",
              "      <th></th>\n",
              "      <th></th>\n",
              "      <th></th>\n",
              "      <th></th>\n",
              "      <th></th>\n",
              "      <th></th>\n",
              "      <th></th>\n",
              "      <th></th>\n",
              "      <th></th>\n",
              "      <th></th>\n",
              "      <th></th>\n",
              "      <th></th>\n",
              "      <th></th>\n",
              "      <th></th>\n",
              "      <th></th>\n",
              "      <th></th>\n",
              "      <th></th>\n",
              "      <th></th>\n",
              "      <th></th>\n",
              "      <th></th>\n",
              "      <th></th>\n",
              "    </tr>\n",
              "  </thead>\n",
              "  <tbody>\n",
              "    <tr>\n",
              "      <th>1999</th>\n",
              "      <td>2</td>\n",
              "      <td>1</td>\n",
              "      <td>1.0</td>\n",
              "      <td>1</td>\n",
              "      <td>1.000000</td>\n",
              "      <td>0.000000</td>\n",
              "      <td>2</td>\n",
              "      <td>0</td>\n",
              "      <td>0</td>\n",
              "      <td>0</td>\n",
              "      <td>0.000000</td>\n",
              "      <td>0.000000</td>\n",
              "      <td>2</td>\n",
              "      <td>0</td>\n",
              "      <td>0</td>\n",
              "      <td>0</td>\n",
              "      <td>0.000000</td>\n",
              "      <td>0.000000</td>\n",
              "      <td>2</td>\n",
              "      <td>413</td>\n",
              "      <td>428.0</td>\n",
              "      <td>443</td>\n",
              "      <td>428.000000</td>\n",
              "      <td>21.213203</td>\n",
              "    </tr>\n",
              "    <tr>\n",
              "      <th>2000</th>\n",
              "      <td>12</td>\n",
              "      <td>0</td>\n",
              "      <td>1.0</td>\n",
              "      <td>3</td>\n",
              "      <td>0.750000</td>\n",
              "      <td>0.866025</td>\n",
              "      <td>12</td>\n",
              "      <td>0</td>\n",
              "      <td>0</td>\n",
              "      <td>1</td>\n",
              "      <td>0.166667</td>\n",
              "      <td>0.389249</td>\n",
              "      <td>12</td>\n",
              "      <td>0</td>\n",
              "      <td>0</td>\n",
              "      <td>1</td>\n",
              "      <td>0.083333</td>\n",
              "      <td>0.288675</td>\n",
              "      <td>12</td>\n",
              "      <td>378</td>\n",
              "      <td>410.0</td>\n",
              "      <td>453</td>\n",
              "      <td>410.583333</td>\n",
              "      <td>20.624162</td>\n",
              "    </tr>\n",
              "    <tr>\n",
              "      <th>2001</th>\n",
              "      <td>12</td>\n",
              "      <td>0</td>\n",
              "      <td>0.0</td>\n",
              "      <td>2</td>\n",
              "      <td>0.500000</td>\n",
              "      <td>0.674200</td>\n",
              "      <td>12</td>\n",
              "      <td>0</td>\n",
              "      <td>0</td>\n",
              "      <td>1</td>\n",
              "      <td>0.166667</td>\n",
              "      <td>0.389249</td>\n",
              "      <td>12</td>\n",
              "      <td>0</td>\n",
              "      <td>0</td>\n",
              "      <td>1</td>\n",
              "      <td>0.250000</td>\n",
              "      <td>0.452267</td>\n",
              "      <td>12</td>\n",
              "      <td>410</td>\n",
              "      <td>449.5</td>\n",
              "      <td>499</td>\n",
              "      <td>451.833333</td>\n",
              "      <td>23.412636</td>\n",
              "    </tr>\n",
              "    <tr>\n",
              "      <th>2002</th>\n",
              "      <td>12</td>\n",
              "      <td>0</td>\n",
              "      <td>1.5</td>\n",
              "      <td>3</td>\n",
              "      <td>1.250000</td>\n",
              "      <td>1.055290</td>\n",
              "      <td>12</td>\n",
              "      <td>0</td>\n",
              "      <td>0</td>\n",
              "      <td>1</td>\n",
              "      <td>0.250000</td>\n",
              "      <td>0.452267</td>\n",
              "      <td>12</td>\n",
              "      <td>0</td>\n",
              "      <td>0</td>\n",
              "      <td>1</td>\n",
              "      <td>0.083333</td>\n",
              "      <td>0.288675</td>\n",
              "      <td>12</td>\n",
              "      <td>457</td>\n",
              "      <td>512.0</td>\n",
              "      <td>558</td>\n",
              "      <td>503.916667</td>\n",
              "      <td>33.789343</td>\n",
              "    </tr>\n",
              "    <tr>\n",
              "      <th>2003</th>\n",
              "      <td>12</td>\n",
              "      <td>0</td>\n",
              "      <td>1.0</td>\n",
              "      <td>3</td>\n",
              "      <td>0.916667</td>\n",
              "      <td>0.996205</td>\n",
              "      <td>12</td>\n",
              "      <td>0</td>\n",
              "      <td>0</td>\n",
              "      <td>4</td>\n",
              "      <td>0.583333</td>\n",
              "      <td>1.164500</td>\n",
              "      <td>12</td>\n",
              "      <td>0</td>\n",
              "      <td>0</td>\n",
              "      <td>1</td>\n",
              "      <td>0.083333</td>\n",
              "      <td>0.288675</td>\n",
              "      <td>12</td>\n",
              "      <td>495</td>\n",
              "      <td>554.0</td>\n",
              "      <td>644</td>\n",
              "      <td>566.250000</td>\n",
              "      <td>48.917602</td>\n",
              "    </tr>\n",
              "    <tr>\n",
              "      <th>2004</th>\n",
              "      <td>12</td>\n",
              "      <td>0</td>\n",
              "      <td>1.0</td>\n",
              "      <td>3</td>\n",
              "      <td>1.000000</td>\n",
              "      <td>0.738549</td>\n",
              "      <td>12</td>\n",
              "      <td>0</td>\n",
              "      <td>0</td>\n",
              "      <td>2</td>\n",
              "      <td>0.416667</td>\n",
              "      <td>0.792961</td>\n",
              "      <td>12</td>\n",
              "      <td>0</td>\n",
              "      <td>0</td>\n",
              "      <td>1</td>\n",
              "      <td>0.166667</td>\n",
              "      <td>0.389249</td>\n",
              "      <td>12</td>\n",
              "      <td>553</td>\n",
              "      <td>659.5</td>\n",
              "      <td>724</td>\n",
              "      <td>648.833333</td>\n",
              "      <td>57.620756</td>\n",
              "    </tr>\n",
              "    <tr>\n",
              "      <th>2005</th>\n",
              "      <td>12</td>\n",
              "      <td>0</td>\n",
              "      <td>1.0</td>\n",
              "      <td>2</td>\n",
              "      <td>0.833333</td>\n",
              "      <td>0.717741</td>\n",
              "      <td>12</td>\n",
              "      <td>0</td>\n",
              "      <td>0</td>\n",
              "      <td>1</td>\n",
              "      <td>0.166667</td>\n",
              "      <td>0.389249</td>\n",
              "      <td>12</td>\n",
              "      <td>0</td>\n",
              "      <td>0</td>\n",
              "      <td>0</td>\n",
              "      <td>0.000000</td>\n",
              "      <td>0.000000</td>\n",
              "      <td>12</td>\n",
              "      <td>499</td>\n",
              "      <td>566.0</td>\n",
              "      <td>635</td>\n",
              "      <td>569.166667</td>\n",
              "      <td>42.626994</td>\n",
              "    </tr>\n",
              "    <tr>\n",
              "      <th>2006</th>\n",
              "      <td>12</td>\n",
              "      <td>0</td>\n",
              "      <td>1.0</td>\n",
              "      <td>3</td>\n",
              "      <td>1.083333</td>\n",
              "      <td>0.996205</td>\n",
              "      <td>12</td>\n",
              "      <td>0</td>\n",
              "      <td>0</td>\n",
              "      <td>1</td>\n",
              "      <td>0.250000</td>\n",
              "      <td>0.452267</td>\n",
              "      <td>12</td>\n",
              "      <td>0</td>\n",
              "      <td>0</td>\n",
              "      <td>1</td>\n",
              "      <td>0.083333</td>\n",
              "      <td>0.288675</td>\n",
              "      <td>12</td>\n",
              "      <td>490</td>\n",
              "      <td>537.5</td>\n",
              "      <td>579</td>\n",
              "      <td>539.333333</td>\n",
              "      <td>25.952170</td>\n",
              "    </tr>\n",
              "    <tr>\n",
              "      <th>2007</th>\n",
              "      <td>12</td>\n",
              "      <td>0</td>\n",
              "      <td>0.5</td>\n",
              "      <td>2</td>\n",
              "      <td>0.583333</td>\n",
              "      <td>0.668558</td>\n",
              "      <td>12</td>\n",
              "      <td>0</td>\n",
              "      <td>0</td>\n",
              "      <td>0</td>\n",
              "      <td>0.000000</td>\n",
              "      <td>0.000000</td>\n",
              "      <td>12</td>\n",
              "      <td>0</td>\n",
              "      <td>0</td>\n",
              "      <td>0</td>\n",
              "      <td>0.000000</td>\n",
              "      <td>0.000000</td>\n",
              "      <td>12</td>\n",
              "      <td>493</td>\n",
              "      <td>545.0</td>\n",
              "      <td>593</td>\n",
              "      <td>543.583333</td>\n",
              "      <td>27.291218</td>\n",
              "    </tr>\n",
              "    <tr>\n",
              "      <th>2008</th>\n",
              "      <td>12</td>\n",
              "      <td>0</td>\n",
              "      <td>0.5</td>\n",
              "      <td>3</td>\n",
              "      <td>0.833333</td>\n",
              "      <td>1.029857</td>\n",
              "      <td>12</td>\n",
              "      <td>0</td>\n",
              "      <td>0</td>\n",
              "      <td>2</td>\n",
              "      <td>0.333333</td>\n",
              "      <td>0.651339</td>\n",
              "      <td>12</td>\n",
              "      <td>0</td>\n",
              "      <td>0</td>\n",
              "      <td>0</td>\n",
              "      <td>0.000000</td>\n",
              "      <td>0.000000</td>\n",
              "      <td>12</td>\n",
              "      <td>474</td>\n",
              "      <td>526.5</td>\n",
              "      <td>637</td>\n",
              "      <td>529.000000</td>\n",
              "      <td>43.734738</td>\n",
              "    </tr>\n",
              "    <tr>\n",
              "      <th>2009</th>\n",
              "      <td>12</td>\n",
              "      <td>0</td>\n",
              "      <td>1.0</td>\n",
              "      <td>2</td>\n",
              "      <td>1.000000</td>\n",
              "      <td>0.852803</td>\n",
              "      <td>12</td>\n",
              "      <td>0</td>\n",
              "      <td>0</td>\n",
              "      <td>1</td>\n",
              "      <td>0.333333</td>\n",
              "      <td>0.492366</td>\n",
              "      <td>12</td>\n",
              "      <td>0</td>\n",
              "      <td>0</td>\n",
              "      <td>1</td>\n",
              "      <td>0.166667</td>\n",
              "      <td>0.389249</td>\n",
              "      <td>12</td>\n",
              "      <td>520</td>\n",
              "      <td>587.5</td>\n",
              "      <td>656</td>\n",
              "      <td>583.750000</td>\n",
              "      <td>40.582408</td>\n",
              "    </tr>\n",
              "    <tr>\n",
              "      <th>2010</th>\n",
              "      <td>12</td>\n",
              "      <td>0</td>\n",
              "      <td>1.0</td>\n",
              "      <td>2</td>\n",
              "      <td>0.666667</td>\n",
              "      <td>0.651339</td>\n",
              "      <td>12</td>\n",
              "      <td>0</td>\n",
              "      <td>0</td>\n",
              "      <td>1</td>\n",
              "      <td>0.250000</td>\n",
              "      <td>0.452267</td>\n",
              "      <td>12</td>\n",
              "      <td>0</td>\n",
              "      <td>0</td>\n",
              "      <td>1</td>\n",
              "      <td>0.083333</td>\n",
              "      <td>0.288675</td>\n",
              "      <td>12</td>\n",
              "      <td>515</td>\n",
              "      <td>577.0</td>\n",
              "      <td>609</td>\n",
              "      <td>575.583333</td>\n",
              "      <td>28.576718</td>\n",
              "    </tr>\n",
              "    <tr>\n",
              "      <th>2011</th>\n",
              "      <td>5</td>\n",
              "      <td>0</td>\n",
              "      <td>1.0</td>\n",
              "      <td>3</td>\n",
              "      <td>1.000000</td>\n",
              "      <td>1.224745</td>\n",
              "      <td>5</td>\n",
              "      <td>0</td>\n",
              "      <td>0</td>\n",
              "      <td>0</td>\n",
              "      <td>0.000000</td>\n",
              "      <td>0.000000</td>\n",
              "      <td>5</td>\n",
              "      <td>0</td>\n",
              "      <td>0</td>\n",
              "      <td>0</td>\n",
              "      <td>0.000000</td>\n",
              "      <td>0.000000</td>\n",
              "      <td>5</td>\n",
              "      <td>373</td>\n",
              "      <td>514.0</td>\n",
              "      <td>560</td>\n",
              "      <td>489.000000</td>\n",
              "      <td>75.581082</td>\n",
              "    </tr>\n",
              "  </tbody>\n",
              "</table>\n",
              "</div>"
            ],
            "text/plain": [
              "           Cardio                 ...    Adm                            \n",
              "             size min median max  ... median  max        mean        std\n",
              "year_month                        ...                                   \n",
              "1999            2   1    1.0   1  ...  428.0  443  428.000000  21.213203\n",
              "2000           12   0    1.0   3  ...  410.0  453  410.583333  20.624162\n",
              "2001           12   0    0.0   2  ...  449.5  499  451.833333  23.412636\n",
              "2002           12   0    1.5   3  ...  512.0  558  503.916667  33.789343\n",
              "2003           12   0    1.0   3  ...  554.0  644  566.250000  48.917602\n",
              "2004           12   0    1.0   3  ...  659.5  724  648.833333  57.620756\n",
              "2005           12   0    1.0   2  ...  566.0  635  569.166667  42.626994\n",
              "2006           12   0    1.0   3  ...  537.5  579  539.333333  25.952170\n",
              "2007           12   0    0.5   2  ...  545.0  593  543.583333  27.291218\n",
              "2008           12   0    0.5   3  ...  526.5  637  529.000000  43.734738\n",
              "2009           12   0    1.0   2  ...  587.5  656  583.750000  40.582408\n",
              "2010           12   0    1.0   2  ...  577.0  609  575.583333  28.576718\n",
              "2011            5   0    1.0   3  ...  514.0  560  489.000000  75.581082\n",
              "\n",
              "[13 rows x 24 columns]"
            ]
          },
          "metadata": {},
          "execution_count": 27
        }
      ]
    },
    {
      "cell_type": "markdown",
      "metadata": {
        "id": "KVtUNWCu0JCf"
      },
      "source": [
        "**Task 7**\n",
        "We will use the `cumsum` function"
      ]
    },
    {
      "cell_type": "code",
      "metadata": {
        "id": "EYK854pwwXwL"
      },
      "source": [
        "# Now we will create the new column\n",
        "df.head()\n",
        "\n",
        "# First way\n",
        "df['CumSumCardio'] = df.Cardio.cumsum()\n",
        "\n",
        "# Second way\n",
        "df['CumsumCardio'] = pd.DataFrame.cumsum(df['Cardio'])"
      ],
      "execution_count": 28,
      "outputs": []
    },
    {
      "cell_type": "code",
      "metadata": {
        "colab": {
          "base_uri": "https://localhost:8080/",
          "height": 235
        },
        "id": "0a_OksXw6qt5",
        "outputId": "e103285d-754e-4fa9-dba1-d6148e92b075"
      },
      "source": [
        "df.head()"
      ],
      "execution_count": 29,
      "outputs": [
        {
          "output_type": "execute_result",
          "data": {
            "text/html": [
              "<div>\n",
              "<style scoped>\n",
              "    .dataframe tbody tr th:only-of-type {\n",
              "        vertical-align: middle;\n",
              "    }\n",
              "\n",
              "    .dataframe tbody tr th {\n",
              "        vertical-align: top;\n",
              "    }\n",
              "\n",
              "    .dataframe thead th {\n",
              "        text-align: right;\n",
              "    }\n",
              "</style>\n",
              "<table border=\"1\" class=\"dataframe\">\n",
              "  <thead>\n",
              "    <tr style=\"text-align: right;\">\n",
              "      <th></th>\n",
              "      <th>Cardio</th>\n",
              "      <th>Resp</th>\n",
              "      <th>Hypo</th>\n",
              "      <th>Adm</th>\n",
              "      <th>CumSumCardio</th>\n",
              "      <th>CumsumCardio</th>\n",
              "    </tr>\n",
              "    <tr>\n",
              "      <th>year_month</th>\n",
              "      <th></th>\n",
              "      <th></th>\n",
              "      <th></th>\n",
              "      <th></th>\n",
              "      <th></th>\n",
              "      <th></th>\n",
              "    </tr>\n",
              "  </thead>\n",
              "  <tbody>\n",
              "    <tr>\n",
              "      <th>1999-11-01</th>\n",
              "      <td>1</td>\n",
              "      <td>0</td>\n",
              "      <td>0</td>\n",
              "      <td>413</td>\n",
              "      <td>1</td>\n",
              "      <td>1</td>\n",
              "    </tr>\n",
              "    <tr>\n",
              "      <th>1999-12-01</th>\n",
              "      <td>1</td>\n",
              "      <td>0</td>\n",
              "      <td>0</td>\n",
              "      <td>443</td>\n",
              "      <td>2</td>\n",
              "      <td>2</td>\n",
              "    </tr>\n",
              "    <tr>\n",
              "      <th>2000-01-01</th>\n",
              "      <td>1</td>\n",
              "      <td>0</td>\n",
              "      <td>0</td>\n",
              "      <td>378</td>\n",
              "      <td>3</td>\n",
              "      <td>3</td>\n",
              "    </tr>\n",
              "    <tr>\n",
              "      <th>2000-02-01</th>\n",
              "      <td>0</td>\n",
              "      <td>0</td>\n",
              "      <td>0</td>\n",
              "      <td>385</td>\n",
              "      <td>3</td>\n",
              "      <td>3</td>\n",
              "    </tr>\n",
              "    <tr>\n",
              "      <th>2000-03-01</th>\n",
              "      <td>1</td>\n",
              "      <td>0</td>\n",
              "      <td>0</td>\n",
              "      <td>388</td>\n",
              "      <td>4</td>\n",
              "      <td>4</td>\n",
              "    </tr>\n",
              "  </tbody>\n",
              "</table>\n",
              "</div>"
            ],
            "text/plain": [
              "            Cardio  Resp  Hypo  Adm  CumSumCardio  CumsumCardio\n",
              "year_month                                                     \n",
              "1999-11-01       1     0     0  413             1             1\n",
              "1999-12-01       1     0     0  443             2             2\n",
              "2000-01-01       1     0     0  378             3             3\n",
              "2000-02-01       0     0     0  385             3             3\n",
              "2000-03-01       1     0     0  388             4             4"
            ]
          },
          "metadata": {},
          "execution_count": 29
        }
      ]
    },
    {
      "cell_type": "markdown",
      "metadata": {
        "id": "rfIlko991AIe"
      },
      "source": [
        "**Task 8**\n",
        "We use the `rolling` function and the `.plot` method."
      ]
    },
    {
      "cell_type": "code",
      "metadata": {
        "colab": {
          "base_uri": "https://localhost:8080/",
          "height": 297
        },
        "id": "EoQd-vAo0ax4",
        "outputId": "83fcd679-f0d2-439b-c0bc-c40c7ff5717b"
      },
      "source": [
        "df['MeanWindowAdm'] = df['Adm'].rolling(3).mean()\n",
        "df\n",
        "df[['Adm','MeanWindowAdm']].plot(style = ['-r','--'], )"
      ],
      "execution_count": 30,
      "outputs": [
        {
          "output_type": "execute_result",
          "data": {
            "text/plain": [
              "<matplotlib.axes._subplots.AxesSubplot at 0x7fa007dc9dd0>"
            ]
          },
          "metadata": {},
          "execution_count": 30
        },
        {
          "output_type": "display_data",
          "data": {
            "image/png": "[encoded data removed]",
            "text/plain": [
              "<Figure size 432x288 with 1 Axes>"
            ]
          },
          "metadata": {
            "needs_background": "light"
          }
        }
      ]
    }
  ]
}